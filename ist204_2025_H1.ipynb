{
  "nbformat": 4,
  "nbformat_minor": 0,
  "metadata": {
    "colab": {
      "provenance": [],
      "mount_file_id": "1AdWfowk9cXimtVr8mzPJEx1CK-VIx_kL",
      "authorship_tag": "ABX9TyOUrGOdPFim4BFytRs1f3JD",
      "include_colab_link": true
    },
    "kernelspec": {
      "name": "python3",
      "display_name": "Python 3"
    },
    "language_info": {
      "name": "python"
    }
  },
  "cells": [
    {
      "cell_type": "markdown",
      "metadata": {
        "id": "view-in-github",
        "colab_type": "text"
      },
      "source": [
        "<a href=\"https://colab.research.google.com/github/msy-bilecik/ist204_2025/blob/main/ist204_2025_H1.ipynb\" target=\"_parent\"><img src=\"https://colab.research.google.com/assets/colab-badge.svg\" alt=\"Open In Colab\"/></a>"
      ]
    },
    {
      "cell_type": "markdown",
      "source": [
        "#İST204 Bilgisayar Programlama II\n",
        "\n",
        "2024 - 2025 Akademik Yılı İST204 Bilgisayar Programlama II dersinde hazırlanan örneklerden\n",
        "\n",
        "##1. Hafta Örnekleri"
      ],
      "metadata": {
        "id": "H6nBEmBcJGyE"
      }
    },
    {
      "cell_type": "code",
      "execution_count": null,
      "metadata": {
        "colab": {
          "base_uri": "https://localhost:8080/"
        },
        "id": "wfNHokllItfz",
        "outputId": "5312edf7-d5da-4768-d85d-be25538492f1"
      },
      "outputs": [
        {
          "output_type": "stream",
          "name": "stdout",
          "text": [
            "11\n"
          ]
        }
      ],
      "source": [
        "a=5\n",
        "b=6\n",
        "print(a+b)"
      ]
    },
    {
      "cell_type": "code",
      "source": [
        "print(\"Merhaba Dünyalı\")  # print komutunu çift tırnakla kullanabilirsiniz.\n",
        "print('Merhaba Dünyalı')  # tek tıknakla örnek\n",
        "print(\"Merhaba Ali'nin oğlu\") # çift tırnak içinde ekrana tek tırnak yazma\n",
        "print(\"Merhaba \\\"Köyün\\\" delisi\") # özel karakterleri basmak için \\ ifadesi kullanılır."
      ],
      "metadata": {
        "colab": {
          "base_uri": "https://localhost:8080/"
        },
        "id": "DTisFJHTKPrD",
        "outputId": "da02a331-cb9d-49ab-e3e4-a9b8dbdd4993"
      },
      "execution_count": null,
      "outputs": [
        {
          "output_type": "stream",
          "name": "stdout",
          "text": [
            "Merhaba Dünyalı\n",
            "Merhaba Dünyalı\n",
            "Merhaba Ali'nin oğlu\n",
            "Merhaba \"Köyün\" delisi\n"
          ]
        }
      ]
    },
    {
      "cell_type": "code",
      "source": [
        "print(\"ali\",\"veli\",\"kırkdokuz\",\"elli\")\n",
        "print(\"ali\",\"veli\",\"kırkdokuz\",\"elli\",sep=\".\")\n",
        "print(\"ali\",\"veli\",\"kırkdokuz\",\"elli\",sep=\"\")\n"
      ],
      "metadata": {
        "colab": {
          "base_uri": "https://localhost:8080/"
        },
        "id": "KsehTx8VTeE8",
        "outputId": "0813a7db-d787-4174-c4fe-17e0aa592942"
      },
      "execution_count": null,
      "outputs": [
        {
          "output_type": "stream",
          "name": "stdout",
          "text": [
            "ali veli kırkdokuz elli\n",
            "ali.veli.kırkdokuz.elli\n",
            "alivelikırkdokuzelli\n"
          ]
        }
      ]
    },
    {
      "cell_type": "code",
      "source": [
        "print(\"ali\",\"veli\",\"kırkdokuz\",\"elli\",end=\"\\n\")\n",
        "print(\"ali\",\"veli\",\"kırkdokuz\",\"elli\",sep=\".\",end=\".\")\n",
        "print(\"ali\",\"veli\",\"kırkdokuz\",\"elli\",sep=\"\",end=\" $$ \")\n",
        "print(\"merhaba dünyalı\")\n",
        "print(\"istatistik ve bilgisayar öğrencileri\")"
      ],
      "metadata": {
        "colab": {
          "base_uri": "https://localhost:8080/"
        },
        "id": "2db1_MJ7Lm2r",
        "outputId": "14c3b4cb-6d2d-4eff-81bd-aef81a494784"
      },
      "execution_count": null,
      "outputs": [
        {
          "output_type": "stream",
          "name": "stdout",
          "text": [
            "ali veli kırkdokuz elli\n",
            "ali.veli.kırkdokuz.elli.alivelikırkdokuzelli $$ merhaba dünyalı\n",
            "istatistik ve bilgisayar öğrencileri\n"
          ]
        }
      ]
    },
    {
      "cell_type": "code",
      "source": [
        "dosya = open(\"/content/drive/MyDrive/ist204/deneme.txt\", \"w\")\n",
        "print(\"ali\",\"veli\",\"kırkdokuz\",\"elli\",end=\"\\n\",file=dosya)\n",
        "print(\"ali\",\"veli\",\"kırkdokuz\",\"elli\",sep=\".\",end=\".\",file=dosya)\n",
        "print(\"ali\",\"veli\",\"kırkdokuz\",\"elli\",sep=\"\",end=\" $$ \",file=dosya)\n",
        "print(\"merhaba dünyalı\",file=dosya)\n",
        "print(\"istatistik ve bilgisayar öğrencileri\",file=dosya)\n",
        "dosya.close()"
      ],
      "metadata": {
        "id": "qGD0uHZDLpqy"
      },
      "execution_count": null,
      "outputs": []
    },
    {
      "cell_type": "code",
      "source": [
        "print(\"L\", \"i\", \"n\", \"u\", \"x\", sep=\".\")\n",
        "print(*\"Linux\", sep=\".\")"
      ],
      "metadata": {
        "colab": {
          "base_uri": "https://localhost:8080/"
        },
        "id": "05xOhZONLuzD",
        "outputId": "038d246a-d862-4fe9-9d2a-19e8309f62c9"
      },
      "execution_count": null,
      "outputs": [
        {
          "output_type": "stream",
          "name": "stdout",
          "text": [
            "L.i.n.u.x\n",
            "L.i.n.u.x\n"
          ]
        }
      ]
    },
    {
      "cell_type": "markdown",
      "source": [
        "# Döküman kaydetme ve sonra çalıştırma"
      ],
      "metadata": {
        "id": "oDwNvhtiV99Z"
      }
    },
    {
      "cell_type": "code",
      "source": [
        "#tarih = \"02.01.2012\"\n",
        "gün = \"Pazartesi\"\n",
        "vakit = \"öğleden sonra\"\n",
        "\n",
        "print(tarih, gün, vakit, \"buluşalım\", end=\".\\n\")"
      ],
      "metadata": {
        "colab": {
          "base_uri": "https://localhost:8080/"
        },
        "id": "E7jgTuc-WDNx",
        "outputId": "172b009e-a8b8-434a-f033-1ebf9f0c016e"
      },
      "execution_count": null,
      "outputs": [
        {
          "output_type": "stream",
          "name": "stdout",
          "text": [
            "02.01.2012 Pazartesi öğleden sonra buluşalım.\n"
          ]
        }
      ]
    },
    {
      "cell_type": "code",
      "source": [
        "!python /content/drive/MyDrive/ist204/randevu.py\n"
      ],
      "metadata": {
        "colab": {
          "base_uri": "https://localhost:8080/"
        },
        "id": "cbKCr7MNWYpB",
        "outputId": "ac95c326-9e22-4b98-b5cc-af1b53e5f980"
      },
      "execution_count": null,
      "outputs": [
        {
          "output_type": "stream",
          "name": "stdout",
          "text": [
            "02.01.2012 Pazartesi öğleden sonra buluşalım.\n"
          ]
        }
      ]
    },
    {
      "cell_type": "markdown",
      "source": [
        "# Kullanıcıdan bilgi alma\n",
        "input fonksiyonu"
      ],
      "metadata": {
        "id": "4GVSlwGeXcs_"
      }
    },
    {
      "cell_type": "code",
      "source": [
        "adi=input(\"isminizi giriniz :\")"
      ],
      "metadata": {
        "colab": {
          "base_uri": "https://localhost:8080/"
        },
        "id": "46gjhJcjXmeB",
        "outputId": "fdbd2b3b-e2c6-4ea5-e90b-5cc0af7766fd"
      },
      "execution_count": null,
      "outputs": [
        {
          "name": "stdout",
          "output_type": "stream",
          "text": [
            "isminizi girinizmüberra\n"
          ]
        }
      ]
    },
    {
      "cell_type": "code",
      "source": [
        "print(adi)"
      ],
      "metadata": {
        "colab": {
          "base_uri": "https://localhost:8080/"
        },
        "id": "-AF3lRsyXrWy",
        "outputId": "f747abbc-d653-4853-d6f0-bc67439adec2"
      },
      "execution_count": null,
      "outputs": [
        {
          "output_type": "stream",
          "name": "stdout",
          "text": [
            "müberra\n"
          ]
        }
      ]
    },
    {
      "cell_type": "code",
      "source": [
        "adet=int(input(\"adet giriniz :\"))\n",
        "print(adet-9)"
      ],
      "metadata": {
        "colab": {
          "base_uri": "https://localhost:8080/"
        },
        "id": "RALFa3LzXzIS",
        "outputId": "721391f4-534a-456b-d27e-cac70215218d"
      },
      "execution_count": null,
      "outputs": [
        {
          "output_type": "stream",
          "name": "stdout",
          "text": [
            "adet giriniz :19\n",
            "10\n"
          ]
        }
      ]
    }
  ]
}