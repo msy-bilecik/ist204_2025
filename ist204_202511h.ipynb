{
  "nbformat": 4,
  "nbformat_minor": 0,
  "metadata": {
    "colab": {
      "provenance": [],
      "collapsed_sections": [
        "xOSSRZVe1JfQ"
      ],
      "authorship_tag": "ABX9TyNM6qAWQJdkCK88QK2wrzc8",
      "include_colab_link": true
    },
    "kernelspec": {
      "name": "python3",
      "display_name": "Python 3"
    },
    "language_info": {
      "name": "python"
    }
  },
  "cells": [
    {
      "cell_type": "markdown",
      "metadata": {
        "id": "view-in-github",
        "colab_type": "text"
      },
      "source": [
        "<a href=\"https://colab.research.google.com/github/msy-bilecik/ist204_2025/blob/main/ist204_202511h.ipynb\" target=\"_parent\"><img src=\"https://colab.research.google.com/assets/colab-badge.svg\" alt=\"Open In Colab\"/></a>"
      ]
    },
    {
      "cell_type": "markdown",
      "source": [
        "## fonksiyonlar (tekrar)"
      ],
      "metadata": {
        "id": "xOSSRZVe1JfQ"
      }
    },
    {
      "cell_type": "code",
      "source": [
        "# parametresiz geri dönüş değeri olmayan bir fonksiyon.\n",
        "\n",
        "def Merhaba():      # gelen parametre yok.\n",
        "  print(\"Merhaba\")  # istediğiniz işlemi yazabildiğiniz alan.\n",
        "                    # geri dönüş değeri yok.\n",
        "\n",
        "# parametreli geri dönüş değeri olmayan bir fonksiyon.\n",
        "def MetinYaz(metin): # metin gelen değeri alan bir parametredir.\n",
        "  print(metin)       # istediğimiz işlemleri yaptığımız yer.\n",
        "                     # geri dönüş değeri yok.\n",
        "\n",
        "#parametreli ve geri dönüş değerli bir fonksiyon.\n",
        "def karesi(x):  # x gelen sayıyı gösterir\n",
        "  return x**2   # return deyimi geri değer döndürür.\n",
        "                # yanındaki işlem bittikten sonra çalışır."
      ],
      "metadata": {
        "id": "C2RUut_ffEk3"
      },
      "execution_count": 6,
      "outputs": []
    },
    {
      "cell_type": "code",
      "source": [
        "## c^2=a^2+b^2 denkleminden\n",
        "# gönderilen a ve b değerleri için gerekli c yi hesaplayan fonksiyonu yazınız."
      ],
      "metadata": {
        "id": "mxQFxwT1hGXP"
      },
      "execution_count": null,
      "outputs": []
    },
    {
      "cell_type": "code",
      "source": [
        "def hipo(a,b):\n",
        "  return (a**2+b**2)**0.5"
      ],
      "metadata": {
        "id": "FuE2oKYGhRoO"
      },
      "execution_count": 9,
      "outputs": []
    },
    {
      "cell_type": "code",
      "source": [
        "MetinYaz(\"Merhaba Dünya\")\n",
        "\n",
        "a=int(input(\"Bir sayı giriniz: \"))\n",
        "b=int(input(\"Bir sayı giriniz: \"))\n",
        "print(hipo(a,b))"
      ],
      "metadata": {
        "colab": {
          "base_uri": "https://localhost:8080/"
        },
        "id": "y53b3cIkf3k2",
        "outputId": "0300e29a-4b60-446e-af9d-2a102d80bdfe"
      },
      "execution_count": 10,
      "outputs": [
        {
          "output_type": "stream",
          "name": "stdout",
          "text": [
            "Merhaba Dünya\n",
            "Bir sayı giriniz: 3\n",
            "Bir sayı giriniz: 4\n",
            "5.0\n"
          ]
        }
      ]
    },
    {
      "cell_type": "code",
      "source": [
        "# parametre olarak dizi kullanımı\n",
        "# 6. hafta örneklerinde bulunabilir.\n",
        "\n",
        "# geri dönüş değeri olarak dizi kullanımı\n",
        "# 6. hafta örneklerinde bulunabilir.\n",
        "\n",
        "# çoklu parametreli fonksiyonlar\n",
        "def topla(a,b,c,d,e,f):\n",
        "  return a+b+c+d+e+f\n",
        "\n",
        "def toplama1(a,b,c=3,d=4):\n",
        "  return a+b+c+d\n",
        "\n",
        "print(topla(6,3,33,33,333,3))\n",
        "print(toplama1(1,2))\n",
        "print(toplama1(1,2,c=99,d=12))\n",
        "\n",
        "\n",
        "print(topla(1,2,3,4,5,6))\n",
        "\n",
        "\n",
        "# çoklu geri dönüş değerli fonksiyonlar\n",
        "# 6. hafta örneklerinde bulunabilir.\n",
        "def bolme_islemi(bolunen, bolen):\n",
        "  \"\"\"\n",
        "  Verilen iki sayıyı böler ve bölümü ve kalanı döndürür.\n",
        "\n",
        "  Args:\n",
        "    bolunen: Bölünecek sayı.\n",
        "    bolen: Bölen sayı.\n",
        "\n",
        "  Returns:\n",
        "    Bir tuple olarak bölüm ve kalanı döndürür.\n",
        "  \"\"\"\n",
        "  bolum = bolunen // bolen\n",
        "  kalan = bolunen % bolen\n",
        "  return bolum, kalan\n",
        "\n",
        "# Kullanıcıdan girdi alma\n",
        "bolunen = int(input(\"Bölünecek sayıyı giriniz: \"))\n",
        "bolen = int(input(\"Bölen sayıyı giriniz: \"))\n",
        "\n",
        "# Bölme işlemini yapma\n",
        "bolum, kalan = bolme_islemi(bolunen, bolen)  ## geri dönüş değerlerinin sırası ile alınması\n",
        "\n",
        "# Sonuçları yazdırma\n",
        "print(\"Bölüm:\", bolum)\n",
        "print(\"Kalan:\", kalan)"
      ],
      "metadata": {
        "id": "C0vnZZiSiUPW"
      },
      "execution_count": null,
      "outputs": []
    },
    {
      "cell_type": "code",
      "source": [
        "# öz yinelemeli fonksiyonlar\n",
        "# 2 temel kuralı var\n",
        "  # 1. kendini çağırması gerekir.\n",
        "  # 2. bir durma noktası olması gerekir.\n",
        "\n",
        "# gizli bir döngü gibi çalışır.\n",
        "\n",
        "def faktoriyel(n):\n",
        "  if n==1:\n",
        "    return 1\n",
        "  else:\n",
        "    return n*faktoriyel(n-1)\n",
        "\n",
        "print(faktoriyel(5))\n"
      ],
      "metadata": {
        "colab": {
          "base_uri": "https://localhost:8080/"
        },
        "id": "Z22P7wpEio2-",
        "outputId": "8bfba444-4cba-4feb-927b-7a908ed56377"
      },
      "execution_count": 31,
      "outputs": [
        {
          "output_type": "stream",
          "name": "stdout",
          "text": [
            "120\n"
          ]
        }
      ]
    },
    {
      "cell_type": "markdown",
      "source": [
        "#"
      ],
      "metadata": {
        "id": "osPYzZdIiSk_"
      }
    },
    {
      "cell_type": "markdown",
      "source": [],
      "metadata": {
        "id": "XDZombKwfzIG"
      }
    },
    {
      "cell_type": "markdown",
      "source": [
        "## Kütüphane Oluşturma ve Kullanma"
      ],
      "metadata": {
        "id": "1e_shk3ya8RP"
      }
    },
    {
      "cell_type": "code",
      "execution_count": 11,
      "metadata": {
        "id": "5BFUF2-xavz2"
      },
      "outputs": [],
      "source": [
        "import os  # modüllerin içe aktarılması"
      ]
    },
    {
      "cell_type": "code",
      "source": [
        "# modül_adı.fonksiyon_veya_nitelik\n",
        "\n",
        "print(os.getcwd())\n",
        "\n",
        "dosyaYolu=os.path.join(\"/\",\"content\",\"text.txt\")\n",
        "print(dosyaYolu)\n",
        "#dir(os)"
      ],
      "metadata": {
        "colab": {
          "base_uri": "https://localhost:8080/"
        },
        "id": "hajK3Ml9rltn",
        "outputId": "6df9cee7-fe13-482c-e848-48d5620d587d"
      },
      "execution_count": 25,
      "outputs": [
        {
          "output_type": "stream",
          "name": "stdout",
          "text": [
            "/content\n",
            "/content/text.txt\n"
          ]
        }
      ]
    },
    {
      "cell_type": "code",
      "source": [
        "# import modül_adı as farklı_bir_isim\n",
        "\n",
        "import subprocess as sb\n",
        "\n",
        "#dir(sb)\n"
      ],
      "metadata": {
        "id": "2aDzi1uZsRZv"
      },
      "execution_count": 22,
      "outputs": []
    },
    {
      "cell_type": "code",
      "source": [
        "# from modül_adi import fonksiyon\n",
        "\n",
        "from os import name, listdir, getcwd\n",
        "\n",
        "# print(os.getcwd())\n",
        "print(getcwd())\n",
        "print(name)\n"
      ],
      "metadata": {
        "colab": {
          "base_uri": "https://localhost:8080/"
        },
        "id": "9rysgn4ts_FQ",
        "outputId": "9bc81c83-93db-4ce4-f158-fa2f3a13482a"
      },
      "execution_count": 27,
      "outputs": [
        {
          "output_type": "stream",
          "name": "stdout",
          "text": [
            "/content\n",
            "posix\n"
          ]
        }
      ]
    },
    {
      "cell_type": "code",
      "source": [
        "# from modül_adi import *\n",
        "from sys import *\n",
        "\n",
        "#print(sys.version)\n",
        "print(version)"
      ],
      "metadata": {
        "colab": {
          "base_uri": "https://localhost:8080/"
        },
        "id": "HoZkMqZLttD_",
        "outputId": "f8fd9b42-26b4-4e82-9e7c-94dadfdff00e"
      },
      "execution_count": 28,
      "outputs": [
        {
          "output_type": "stream",
          "name": "stdout",
          "text": [
            "3.11.12 (main, Apr  9 2025, 08:55:54) [GCC 11.4.0]\n"
          ]
        }
      ]
    },
    {
      "cell_type": "code",
      "source": [
        "import ist204_2025_11h_fx\n",
        "\n",
        "ist204_2025_11h_fx.faktoriyel(6)"
      ],
      "metadata": {
        "colab": {
          "base_uri": "https://localhost:8080/"
        },
        "id": "PqqqrvqlulzP",
        "outputId": "cbbe4bba-1b3f-4289-893c-9ab87847567b"
      },
      "execution_count": 7,
      "outputs": [
        {
          "output_type": "execute_result",
          "data": {
            "text/plain": [
              "720"
            ]
          },
          "metadata": {},
          "execution_count": 7
        }
      ]
    },
    {
      "cell_type": "code",
      "source": [
        "import ist204_2025_11h_fx  as fx\n",
        "\n",
        "fx.faktoriyel(6)"
      ],
      "metadata": {
        "colab": {
          "base_uri": "https://localhost:8080/"
        },
        "id": "xk4KFnCKvFXf",
        "outputId": "1654f97e-55cf-4e81-c158-c7d9e81e49f6"
      },
      "execution_count": 6,
      "outputs": [
        {
          "output_type": "execute_result",
          "data": {
            "text/plain": [
              "720"
            ]
          },
          "metadata": {},
          "execution_count": 6
        }
      ]
    },
    {
      "cell_type": "code",
      "source": [
        "from ist204_2025_11h_fx import *\n",
        "\n",
        "faktoriyel(6)"
      ],
      "metadata": {
        "colab": {
          "base_uri": "https://localhost:8080/"
        },
        "id": "ixLCgpMEvJ8v",
        "outputId": "39f9562e-3fe3-411c-f02c-3b1d412af162"
      },
      "execution_count": 5,
      "outputs": [
        {
          "output_type": "execute_result",
          "data": {
            "text/plain": [
              "720"
            ]
          },
          "metadata": {},
          "execution_count": 5
        }
      ]
    },
    {
      "cell_type": "code",
      "source": [
        "dir(ist204_2025_11h_fx)"
      ],
      "metadata": {
        "colab": {
          "base_uri": "https://localhost:8080/"
        },
        "id": "6WWabZ_FvTO_",
        "outputId": "3d892900-0a3a-4c2f-f132-5450f2a7ca57"
      },
      "execution_count": 8,
      "outputs": [
        {
          "output_type": "execute_result",
          "data": {
            "text/plain": [
              "['Merhaba',\n",
              " 'MetinYaz',\n",
              " '__builtins__',\n",
              " '__cached__',\n",
              " '__doc__',\n",
              " '__file__',\n",
              " '__loader__',\n",
              " '__name__',\n",
              " '__package__',\n",
              " '__spec__',\n",
              " 'bolme_islemi',\n",
              " 'faktoriyel',\n",
              " 'hipo',\n",
              " 'karesi',\n",
              " 'topla',\n",
              " 'toplama1']"
            ]
          },
          "metadata": {},
          "execution_count": 8
        }
      ]
    },
    {
      "cell_type": "code",
      "source": [
        "dir(fx)"
      ],
      "metadata": {
        "colab": {
          "base_uri": "https://localhost:8080/"
        },
        "id": "fsJNASl2vW-3",
        "outputId": "1c4daf8e-57b6-4c72-abe3-2da17a6695ed"
      },
      "execution_count": 9,
      "outputs": [
        {
          "output_type": "execute_result",
          "data": {
            "text/plain": [
              "['Merhaba',\n",
              " 'MetinYaz',\n",
              " '__builtins__',\n",
              " '__cached__',\n",
              " '__doc__',\n",
              " '__file__',\n",
              " '__loader__',\n",
              " '__name__',\n",
              " '__package__',\n",
              " '__spec__',\n",
              " 'bolme_islemi',\n",
              " 'faktoriyel',\n",
              " 'hipo',\n",
              " 'karesi',\n",
              " 'topla',\n",
              " 'toplama1']"
            ]
          },
          "metadata": {},
          "execution_count": 9
        }
      ]
    },
    {
      "cell_type": "code",
      "source": [
        "dir()"
      ],
      "metadata": {
        "colab": {
          "base_uri": "https://localhost:8080/"
        },
        "id": "FPNmJ-nivZoI",
        "outputId": "4a351559-b6df-477f-b9c3-6d3246ba6647"
      },
      "execution_count": 10,
      "outputs": [
        {
          "output_type": "execute_result",
          "data": {
            "text/plain": [
              "['In',\n",
              " 'Merhaba',\n",
              " 'MetinYaz',\n",
              " 'Out',\n",
              " '_',\n",
              " '_3',\n",
              " '_4',\n",
              " '_5',\n",
              " '_6',\n",
              " '_7',\n",
              " '_8',\n",
              " '_9',\n",
              " '__',\n",
              " '___',\n",
              " '__builtin__',\n",
              " '__builtins__',\n",
              " '__doc__',\n",
              " '__loader__',\n",
              " '__name__',\n",
              " '__package__',\n",
              " '__spec__',\n",
              " '_dh',\n",
              " '_i',\n",
              " '_i1',\n",
              " '_i10',\n",
              " '_i2',\n",
              " '_i3',\n",
              " '_i4',\n",
              " '_i5',\n",
              " '_i6',\n",
              " '_i7',\n",
              " '_i8',\n",
              " '_i9',\n",
              " '_ih',\n",
              " '_ii',\n",
              " '_iii',\n",
              " '_oh',\n",
              " 'bolme_islemi',\n",
              " 'exit',\n",
              " 'faktoriyel',\n",
              " 'fx',\n",
              " 'get_ipython',\n",
              " 'hipo',\n",
              " 'ist204_2025_11h_fx',\n",
              " 'karesi',\n",
              " 'quit',\n",
              " 'topla',\n",
              " 'toplama1']"
            ]
          },
          "metadata": {},
          "execution_count": 10
        }
      ]
    },
    {
      "cell_type": "markdown",
      "source": [
        "bir hesap makinesi için hesapla.py isminde bir modül hazırlayınız.\n",
        "toplama , çıkarma, çarpma, bölme ve mod işlemlerini barındırsın.\n",
        "\n",
        "kütüphaneyi 3 şekilde de ekleyiniz.\n",
        "1. tam isimle\n",
        "2. kısaltma ile\n",
        "3. isimsiz direk kullanımla."
      ],
      "metadata": {
        "id": "8q3WV5Zx0H8o"
      }
    },
    {
      "cell_type": "code",
      "source": [],
      "metadata": {
        "id": "qlHhYpyk0FeI"
      },
      "execution_count": null,
      "outputs": []
    },
    {
      "cell_type": "markdown",
      "source": [
        "## Paket Oluşturma ve Kullanma"
      ],
      "metadata": {
        "id": "hFpksD9F1Nln"
      }
    },
    {
      "cell_type": "code",
      "source": [
        "import urllib.request # modüller ile aynı ama . ile alt paket çağırılır.\n",
        "\n",
        "from urllib import request"
      ],
      "metadata": {
        "id": "v5B0FgSF1SLX"
      },
      "execution_count": null,
      "outputs": []
    },
    {
      "cell_type": "code",
      "source": [
        "from kitaplik.fx2 import *\n",
        "\n",
        "import kitaplik.fx2"
      ],
      "metadata": {
        "id": "D8bKO50C2zWY"
      },
      "execution_count": 13,
      "outputs": []
    },
    {
      "cell_type": "code",
      "source": [
        "kur()\n",
        "\n",
        "kitaplik.fx2.kur()"
      ],
      "metadata": {
        "colab": {
          "base_uri": "https://localhost:8080/"
        },
        "id": "7omFBjfV26gY",
        "outputId": "41353b3a-e9b4-4b34-987c-3c4913031b0e"
      },
      "execution_count": 14,
      "outputs": [
        {
          "output_type": "stream",
          "name": "stdout",
          "text": [
            "Program /usr/bin/ dizinine kuruldu!\n",
            "Program /usr/bin/ dizinine kuruldu!\n"
          ]
        }
      ]
    },
    {
      "cell_type": "code",
      "source": [
        "!python ist204_2025_11h_fx_run.py 8\n"
      ],
      "metadata": {
        "colab": {
          "base_uri": "https://localhost:8080/"
        },
        "id": "xrtJY-Y33obI",
        "outputId": "3e98bbd5-ee32-4594-fb59-b9f4b8b9ba01"
      },
      "execution_count": 23,
      "outputs": [
        {
          "output_type": "stream",
          "name": "stdout",
          "text": [
            "bir sayi gir:8\n",
            "* \n",
            "* * \n",
            "* * * \n",
            "* * * * \n",
            "* * * * * \n",
            "* * * * * * \n",
            "* * * * * * * \n",
            "* * * * * * * * \n"
          ]
        }
      ]
    }
  ]
}