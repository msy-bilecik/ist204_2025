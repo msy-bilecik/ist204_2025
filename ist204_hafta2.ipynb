{
  "nbformat": 4,
  "nbformat_minor": 0,
  "metadata": {
    "colab": {
      "provenance": [],
      "authorship_tag": "ABX9TyPlpDhrnA3i1uTsrrwKTLuu",
      "include_colab_link": true
    },
    "kernelspec": {
      "name": "python3",
      "display_name": "Python 3"
    },
    "language_info": {
      "name": "python"
    }
  },
  "cells": [
    {
      "cell_type": "markdown",
      "metadata": {
        "id": "view-in-github",
        "colab_type": "text"
      },
      "source": [
        "<a href=\"https://colab.research.google.com/github/msy-bilecik/ist204_2025/blob/main/ist204_hafta2.ipynb\" target=\"_parent\"><img src=\"https://colab.research.google.com/assets/colab-badge.svg\" alt=\"Open In Colab\"/></a>"
      ]
    },
    {
      "cell_type": "markdown",
      "source": [
        "Operatörler\n"
      ],
      "metadata": {
        "id": "dB1ctmgtGRjW"
      }
    },
    {
      "cell_type": "code",
      "execution_count": 5,
      "metadata": {
        "colab": {
          "base_uri": "https://localhost:8080/"
        },
        "id": "sIBsCSgE3J0a",
        "outputId": "db8246cc-3799-4253-8713-a392010bb959"
      },
      "outputs": [
        {
          "output_type": "stream",
          "name": "stdout",
          "text": [
            "X: 3\n",
            "Y: 3\n",
            "14.0\n"
          ]
        }
      ],
      "source": [
        "x=int(input(\"X: \"))\n",
        "y=int(input(\"Y: \"))\n",
        "s=x/(3+y) + (y**x)/((x-1)*(y-2))\n",
        "print(s)"
      ]
    },
    {
      "cell_type": "markdown",
      "source": [
        "#Koşul Yapıları"
      ],
      "metadata": {
        "id": "qwFsg3xHGUd9"
      }
    },
    {
      "cell_type": "code",
      "source": [
        "a=5\n",
        "b=6"
      ],
      "metadata": {
        "id": "AJ1fmiVeJqzN"
      },
      "execution_count": 6,
      "outputs": []
    },
    {
      "cell_type": "code",
      "source": [
        "if a==b:\n",
        "  print(\"eşit\")\n",
        "else:\n",
        "  print(\"eşit değil\")"
      ],
      "metadata": {
        "colab": {
          "base_uri": "https://localhost:8080/"
        },
        "id": "RQoW9LJoGX7c",
        "outputId": "debbf61f-ddcc-436e-f27a-d58e9e490492"
      },
      "execution_count": 9,
      "outputs": [
        {
          "output_type": "stream",
          "name": "stdout",
          "text": [
            "eşit değil\n"
          ]
        }
      ]
    }
  ]
}