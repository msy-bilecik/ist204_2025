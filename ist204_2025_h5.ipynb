{
  "nbformat": 4,
  "nbformat_minor": 0,
  "metadata": {
    "colab": {
      "provenance": [],
      "authorship_tag": "ABX9TyPdCnQ0Z8fCM4uFIcfp8YMk",
      "include_colab_link": true
    },
    "kernelspec": {
      "name": "python3",
      "display_name": "Python 3"
    },
    "language_info": {
      "name": "python"
    }
  },
  "cells": [
    {
      "cell_type": "markdown",
      "metadata": {
        "id": "view-in-github",
        "colab_type": "text"
      },
      "source": [
        "<a href=\"https://colab.research.google.com/github/msy-bilecik/ist204_2025/blob/main/ist204_2025_h5.ipynb\" target=\"_parent\"><img src=\"https://colab.research.google.com/assets/colab-badge.svg\" alt=\"Open In Colab\"/></a>"
      ]
    },
    {
      "cell_type": "markdown",
      "source": [
        "# Fonksiyonlar"
      ],
      "metadata": {
        "id": "NGu4Lnb2OkQN"
      }
    },
    {
      "cell_type": "markdown",
      "source": [
        "## Fonksiyon Tanımlama"
      ],
      "metadata": {
        "id": "NNP584B3On9r"
      }
    },
    {
      "cell_type": "code",
      "execution_count": 8,
      "metadata": {
        "colab": {
          "base_uri": "https://localhost:8080/"
        },
        "id": "A7u4GMr3CXvo",
        "outputId": "bfdabf40-174d-4135-be70-e2ee1cdc6adf"
      },
      "outputs": [
        {
          "output_type": "stream",
          "name": "stdout",
          "text": [
            "Merhaba\n",
            "------------------------------\n",
            "isim           :  ahmet\n",
            "soyisim        :  yılmaz\n",
            "işletim sistemi:  windows\n",
            "şehir          :  istanbul\n",
            "------------------------------\n",
            "------------------------------\n",
            "isim           :  İlkay\n",
            "soyisim        :  Kaya\n",
            "işletim sistemi:  Mint\n",
            "şehir          :  Adana\n",
            "------------------------------\n",
            "------------------------------\n",
            "isim           :  Seda\n",
            "soyisim        :  Kara\n",
            "işletim sistemi:  SuSe\n",
            "şehir          :  Erzurum\n",
            "------------------------------\n",
            "------------------------------\n",
            "isim           :  Fırat\n",
            "soyisim        :  Özgül\n",
            "işletim sistemi:  Ubuntu\n",
            "şehir          :  İstanbul\n",
            "------------------------------\n",
            "------------------------------\n",
            "isim           :  Mehmet\n",
            "soyisim        :  Öztaban\n",
            "işletim sistemi:  Debian\n",
            "şehir          :  Ankara\n",
            "------------------------------\n"
          ]
        }
      ],
      "source": [
        "# parametresiz ve geri dönüş değeri olmayan\n",
        "# yapayanlız merhaba fonksiyonu\n",
        "\n",
        "def merhaba():\n",
        "  print(\"Merhaba\")\n",
        "\n",
        "\n",
        "merhaba()\n",
        "\n",
        "# parametreli geri dönüşü olmayan fonksiyon\n",
        "# kayıt oluştur fonksiyonu\n",
        "\n",
        "\n",
        "def kayıt_olustur(isim, soyisim, isSis, sehir):\n",
        "    print(\"-\"*30)\n",
        "\n",
        "    print(\"isim           : \", isim)\n",
        "    print(\"soyisim        : \", soyisim)\n",
        "    print(\"işletim sistemi: \", isSis)\n",
        "    print(\"şehir          : \", sehir)\n",
        "\n",
        "    print(\"-\"*30)\n",
        "\n",
        "\n",
        "kayıt_olustur(\"ahmet\", \"yılmaz\", \"windows\", \"istanbul\")\n",
        "kayıt_olustur(\"İlkay\", \"Kaya\", \"Mint\", \"Adana\")\n",
        "kayıt_olustur(\"Seda\", \"Kara\", \"SuSe\", \"Erzurum\")\n",
        "kayıt_olustur(\"Fırat\", \"Özgül\", \"Ubuntu\", \"İstanbul\")\n",
        "kayıt_olustur(\"Mehmet\", \"Öztaban\", \"Debian\", \"Ankara\")\n"
      ]
    },
    {
      "cell_type": "code",
      "source": [
        "# parametreli geri dönüşü olmayan bir fonksiyon\n",
        "\n",
        "def kare_bul(bilecik):  ## fonksiyon tanımlama bölümü\n",
        "    çıktı = \"{} sayısının karesi {} sayısıdır\"   # fonksiyon bloğu\n",
        "    print(çıktı.format(bilecik, bilecik**2))           # fonksiyon bloğu\n",
        "\n",
        "kare_bul(5)         ## çağırılma"
      ],
      "metadata": {
        "colab": {
          "base_uri": "https://localhost:8080/"
        },
        "id": "yEZOtw_ZPKIT",
        "outputId": "f3581e26-9848-4eb3-dc42-400dddcc5b7e"
      },
      "execution_count": 10,
      "outputs": [
        {
          "output_type": "stream",
          "name": "stdout",
          "text": [
            "5 sayısının karesi 25 sayısıdır\n"
          ]
        }
      ]
    },
    {
      "cell_type": "code",
      "source": [
        "def kopyala(kaynak_dosya, hedef_dizin):\n",
        "    çıktı = \"{} adlı dosya {} adlı dizin içine kopyalandı!\"\n",
        "    print(çıktı.format(kaynak_dosya, hedef_dizin))\n",
        "\n",
        "kopyala(\"deneme.txt\", \"/home/istihza/Desktop\")"
      ],
      "metadata": {
        "colab": {
          "base_uri": "https://localhost:8080/"
        },
        "id": "jaiVD5NNTOdc",
        "outputId": "d84794cb-9963-40ac-d53b-e8f15bb51283"
      },
      "execution_count": 11,
      "outputs": [
        {
          "output_type": "stream",
          "name": "stdout",
          "text": [
            "deneme.txt adlı dosya /home/istihza/Desktop adlı dizin içine kopyalandı!\n"
          ]
        }
      ]
    },
    {
      "cell_type": "code",
      "source": [
        "kopyala(hedef_dizin=\"abc\", kaynak_dosya=\"xyz\")"
      ],
      "metadata": {
        "colab": {
          "base_uri": "https://localhost:8080/"
        },
        "id": "wDdPrp1TTpM0",
        "outputId": "37e92046-2e87-4a1f-cdff-7011b7af7f02"
      },
      "execution_count": 12,
      "outputs": [
        {
          "output_type": "stream",
          "name": "stdout",
          "text": [
            "xyz adlı dosya abc adlı dizin içine kopyalandı!\n"
          ]
        }
      ]
    },
    {
      "cell_type": "code",
      "source": [
        "for i in range(10):\n",
        "    print(i, end=\" \")"
      ],
      "metadata": {
        "colab": {
          "base_uri": "https://localhost:8080/"
        },
        "id": "Evwym2XqT_Bc",
        "outputId": "d7e13c35-b80e-446c-d30e-2be637b5498a"
      },
      "execution_count": 14,
      "outputs": [
        {
          "output_type": "stream",
          "name": "stdout",
          "text": [
            "0 1 2 3 4 5 6 7 8 9 "
          ]
        }
      ]
    },
    {
      "cell_type": "code",
      "source": [
        "def kur(kurulum_dizini=\"/usr/bin/\"):\n",
        "    print(\"Program {} dizinine kuruldu!\".format(kurulum_dizini))\n",
        "\n",
        "kur(\"/abc\")"
      ],
      "metadata": {
        "colab": {
          "base_uri": "https://localhost:8080/"
        },
        "id": "Xd7VoLFfUQX0",
        "outputId": "2e9bed95-ce51-4e21-9cc4-0e67bc2c79aa"
      },
      "execution_count": 18,
      "outputs": [
        {
          "output_type": "stream",
          "name": "stdout",
          "text": [
            "Program /abc dizinine kuruldu!\n"
          ]
        }
      ]
    },
    {
      "cell_type": "code",
      "source": [
        "def topla(sayi1,sayi2):\n",
        "    print(sayi1+sayi2)\n",
        "\n",
        "topla(10,20)"
      ],
      "metadata": {
        "colab": {
          "base_uri": "https://localhost:8080/"
        },
        "id": "nGKC_qYAU9M0",
        "outputId": "3be6ac39-f0b3-4c94-cdcd-ac298b000789"
      },
      "execution_count": 19,
      "outputs": [
        {
          "output_type": "stream",
          "name": "stdout",
          "text": [
            "30\n"
          ]
        }
      ]
    },
    {
      "cell_type": "code",
      "source": [
        "def topla(sayi1,sayi2,sayi3):\n",
        "    print(sayi1+sayi2+sayi3)\n",
        "\n",
        "topla(10,20,30)\n",
        "\n"
      ],
      "metadata": {
        "colab": {
          "base_uri": "https://localhost:8080/"
        },
        "id": "6SqlWhgfVNAV",
        "outputId": "cf4a4cfc-abd4-46a3-c185-671fed831873"
      },
      "execution_count": 20,
      "outputs": [
        {
          "output_type": "stream",
          "name": "stdout",
          "text": [
            "60\n"
          ]
        }
      ]
    },
    {
      "cell_type": "markdown",
      "source": [
        "sınırsız sayıda parametre"
      ],
      "metadata": {
        "id": "aUJ2QwpBVcSM"
      }
    },
    {
      "cell_type": "code",
      "source": [
        "def fonksiyon(*parametreler):\n",
        "    print(parametreler)\n",
        "\n",
        "fonksiyon(1, 2, 3, 4, 5)\n",
        "fonksiyon(1, 2, 3, 4, 5,6,7,8,9,10)"
      ],
      "metadata": {
        "colab": {
          "base_uri": "https://localhost:8080/"
        },
        "id": "mhTgNyLqVast",
        "outputId": "3d9f46d5-984c-4483-d9f2-9c40ad056561"
      },
      "execution_count": 22,
      "outputs": [
        {
          "output_type": "stream",
          "name": "stdout",
          "text": [
            "(1, 2, 3, 4, 5)\n",
            "(1, 2, 3, 4, 5, 6, 7, 8, 9, 10)\n"
          ]
        }
      ]
    },
    {
      "cell_type": "code",
      "source": [
        "def toplaM(*sayilar):\n",
        "  t=0\n",
        "  for i in sayilar:\n",
        "    t+=i\n",
        "  print(t)\n",
        "\n",
        "toplaM(1,2,7,16)\n",
        "toplaM(1,2,7,16,18,20)"
      ],
      "metadata": {
        "colab": {
          "base_uri": "https://localhost:8080/"
        },
        "id": "uEUUGGuhV1os",
        "outputId": "453f1a46-a431-47c0-ca6b-99bbbe362c03"
      },
      "execution_count": 23,
      "outputs": [
        {
          "output_type": "stream",
          "name": "stdout",
          "text": [
            "26\n",
            "64\n"
          ]
        }
      ]
    },
    {
      "cell_type": "markdown",
      "source": [
        "#Sorular\n",
        "\n",
        "1) Gönderilen sayıya göre aşağıdaki şekilleri çıkaran fonksiyonlar\n",
        "\n",
        "```\n",
        "solUcgen(3)\n",
        "*\n",
        "**\n",
        "***\n",
        "\n",
        "solUcgen(3,sekil=\"x\")\n",
        "x\n",
        "xx\n",
        "xxx\n",
        "\n",
        "sagUcgen(3,sekil=\"c\")\n",
        "  c\n",
        " cc\n",
        "ccc\n",
        "\n",
        "tHarfi(3)\n",
        "*****\n",
        "  *\n",
        "  *\n",
        "  *\n",
        "  *\n",
        "\n",
        "```\n",
        "\n",
        "\n",
        "\n"
      ],
      "metadata": {
        "id": "9iipceNUbhrU"
      }
    },
    {
      "cell_type": "code",
      "source": [
        "def solUcgen(sayi,sekil=\"*\"):\n",
        "  for i in range(sayi):\n",
        "    print(sekil*(i+1))\n",
        "\n",
        "def sagUcgen(sayi,sekil=\"*\"):\n",
        "  for i in range(sayi):\n",
        "    print(\" \"*(sayi-i-1)+sekil*(i+1))\n",
        "\n",
        "def tHarfi(sayi,sekil=\"*\"):\n",
        "  ys=2*sayi-1\n",
        "  for i in range(1,ys+1):\n",
        "    for t in range(1,ys+1):\n",
        "      if t==sayi or i==1 :\n",
        "        print(sekil,end=\"\")\n",
        "      else:\n",
        "        print(\" \",end=\"\")\n",
        "    print()\n",
        "\n",
        "solUcgen(3)\n",
        "sagUcgen(3)\n",
        "tHarfi(3,sekil=\"#\")"
      ],
      "metadata": {
        "colab": {
          "base_uri": "https://localhost:8080/"
        },
        "id": "vS7PH6hkbhS9",
        "outputId": "f7e95ed2-b05e-434a-dbde-c1bb0cfce723"
      },
      "execution_count": 32,
      "outputs": [
        {
          "output_type": "stream",
          "name": "stdout",
          "text": [
            "*\n",
            "**\n",
            "***\n",
            "  *\n",
            " **\n",
            "***\n",
            "#####\n",
            "  #  \n",
            "  #  \n",
            "  #  \n",
            "  #  \n"
          ]
        }
      ]
    },
    {
      "cell_type": "markdown",
      "source": [
        "#Return"
      ],
      "metadata": {
        "id": "7FSKV_uwedhN"
      }
    },
    {
      "cell_type": "code",
      "source": [
        "def birSayiGiriniz():\n",
        "  a= int(input(\"Bir sayı giriniz: \"))\n",
        "  return a\n",
        "\n",
        "dd=birSayiGiriniz()"
      ],
      "metadata": {
        "colab": {
          "base_uri": "https://localhost:8080/"
        },
        "id": "7PJT4PbjefHd",
        "outputId": "c826819a-d6d8-4a3c-f251-7d6b4083bf6a"
      },
      "execution_count": 34,
      "outputs": [
        {
          "name": "stdout",
          "output_type": "stream",
          "text": [
            "Bir sayı giriniz: 99\n"
          ]
        }
      ]
    },
    {
      "cell_type": "code",
      "source": [
        "metin=\"Klavyeden girilen sayı {} 'dir.\"\n",
        "print(metin.format(dd))\n",
        "\n",
        "print(\"bu sayının 10 fazlası {} dir\".format(dd+10))"
      ],
      "metadata": {
        "colab": {
          "base_uri": "https://localhost:8080/"
        },
        "id": "n0QpfaYsfNR9",
        "outputId": "5137eede-ee96-4cda-8b6f-b923cbcfd363"
      },
      "execution_count": 37,
      "outputs": [
        {
          "output_type": "stream",
          "name": "stdout",
          "text": [
            "Klavyeden girilen sayı 99 'dir.\n",
            "bu sayının 10 fazlası 109 dir\n"
          ]
        }
      ]
    },
    {
      "cell_type": "markdown",
      "source": [
        "bir sayının asal olup olmadığını bulan fonksiyon"
      ],
      "metadata": {
        "id": "XetfZvt5frPN"
      }
    },
    {
      "cell_type": "code",
      "source": [
        "def asalmi(sayi):\n",
        "  d=True\n",
        "  for i in range(2,sayi):\n",
        "    print(i,end=\" \")\n",
        "    if sayi%i==0:\n",
        "      d=False\n",
        "\n",
        "  return d\n",
        "\n",
        "asalmi(18)"
      ],
      "metadata": {
        "colab": {
          "base_uri": "https://localhost:8080/"
        },
        "id": "TIjr-ydufqjv",
        "outputId": "0d8a4791-0d09-4f81-f7ae-62f6fe7e4940"
      },
      "execution_count": 51,
      "outputs": [
        {
          "output_type": "stream",
          "name": "stdout",
          "text": [
            "2 3 4 5 6 7 8 9 10 11 12 13 14 15 16 17 "
          ]
        },
        {
          "output_type": "execute_result",
          "data": {
            "text/plain": [
              "False"
            ]
          },
          "metadata": {},
          "execution_count": 51
        }
      ]
    },
    {
      "cell_type": "code",
      "source": [
        "def asalmi(sayi):\n",
        "  for i in range(2,sayi):\n",
        "    print(i,end=\" \")\n",
        "    if sayi%i==0:\n",
        "     return False\n",
        "  return True\n",
        "\n",
        "asalmi(18)"
      ],
      "metadata": {
        "colab": {
          "base_uri": "https://localhost:8080/"
        },
        "id": "Y9AFXgNUgWNf",
        "outputId": "a227fc22-0cdd-46c8-b832-d6eced1de5d3"
      },
      "execution_count": 52,
      "outputs": [
        {
          "output_type": "stream",
          "name": "stdout",
          "text": [
            "2 "
          ]
        },
        {
          "output_type": "execute_result",
          "data": {
            "text/plain": [
              "False"
            ]
          },
          "metadata": {},
          "execution_count": 52
        }
      ]
    },
    {
      "cell_type": "code",
      "source": [
        "import random\n",
        "\n",
        "def sayı_üret(başlangıç=0, bitiş=500, adet=6):\n",
        "    sayılar = set()\n",
        "\n",
        "    while len(sayılar) < adet:\n",
        "        sayılar.add(random.randrange(başlangıç, bitiş))\n",
        "\n",
        "    return sayılar\n",
        "\n",
        "sayı_üret(1,15,6)"
      ],
      "metadata": {
        "colab": {
          "base_uri": "https://localhost:8080/"
        },
        "id": "-Lg5jBVFgphd",
        "outputId": "dae0c3ca-1f09-41a3-f6f3-ef0c54eae3e6"
      },
      "execution_count": 49,
      "outputs": [
        {
          "output_type": "execute_result",
          "data": {
            "text/plain": [
              "{1, 2, 3, 7, 9, 13}"
            ]
          },
          "metadata": {},
          "execution_count": 49
        }
      ]
    },
    {
      "cell_type": "markdown",
      "source": [
        "Sorular\n",
        "2) Klavyeden girilen sayının üssünü alan program.\n",
        "\n",
        "* Klavyeden girilme kısmı ayrı fonksiyon\n",
        "* üssü ayrı fonksiyon\n",
        "* sonuç gösterimi ayrı fonksiyon olacak."
      ],
      "metadata": {
        "id": "cuW3wJM0hgT1"
      }
    },
    {
      "cell_type": "markdown",
      "source": [],
      "metadata": {
        "id": "rZ8xKqTXkQPV"
      }
    },
    {
      "cell_type": "markdown",
      "source": [
        "S3)\n",
        "Gönderilen sayının TAU sayısı olup olmadığını bulan fonksiyonu yazınız.\n",
        "\n",
        "s4)\n",
        "Klavyeden 0 girilene kadar tüm değerlerin f(x) fonksiyonu sonuçlarını çıkaran program.  "
      ],
      "metadata": {
        "id": "yoeYN5qBjGOl"
      }
    },
    {
      "cell_type": "markdown",
      "source": [
        "![fonks_sgs334.png](data:image/png;base64,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)"
      ],
      "metadata": {
        "id": "53Ku4TTNlV_9"
      }
    },
    {
      "cell_type": "markdown",
      "source": [
        "ÖDEV\n",
        "\n",
        "Aşağıda örneği görülen sayı piramidi gibi bir oyun yazmanız isteniyor. Bu piramidin belli bir işlem üzerine kurgulanması gerekiyor ve kullanıcının oyunda kaybetmeyeceği kadarının görünür olması gerekiyor. Örnekleri inceleyiniz.\n",
        "\n",
        "https://wild.maths.org/sites/wild.maths.org/files/Number%20Pyramid%201.png"
      ],
      "metadata": {
        "id": "FaiEIKfchv2s"
      }
    },
    {
      "cell_type": "markdown",
      "source": [
        "Ödev)\n",
        "![Number Pyramid 2.png](data:image/png;base64,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)"
      ],
      "metadata": {
        "id": "b1a5p4n5iIyV"
      }
    },
    {
      "cell_type": "code",
      "source": [],
      "metadata": {
        "id": "GV09o80ThvAF"
      },
      "execution_count": null,
      "outputs": []
    }
  ]
}