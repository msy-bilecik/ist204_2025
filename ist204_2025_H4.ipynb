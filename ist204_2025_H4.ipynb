{
  "nbformat": 4,
  "nbformat_minor": 0,
  "metadata": {
    "colab": {
      "provenance": [],
      "authorship_tag": "ABX9TyOe1nQLmkAFts/703IDVaIr",
      "include_colab_link": true
    },
    "kernelspec": {
      "name": "python3",
      "display_name": "Python 3"
    },
    "language_info": {
      "name": "python"
    }
  },
  "cells": [
    {
      "cell_type": "markdown",
      "metadata": {
        "id": "view-in-github",
        "colab_type": "text"
      },
      "source": [
        "<a href=\"https://colab.research.google.com/github/msy-bilecik/ist204_2025/blob/main/ist204_2025_H4.ipynb\" target=\"_parent\"><img src=\"https://colab.research.google.com/assets/colab-badge.svg\" alt=\"Open In Colab\"/></a>"
      ]
    },
    {
      "cell_type": "markdown",
      "source": [
        "# Listeler"
      ],
      "metadata": {
        "id": "Vt08_TRb9vR8"
      }
    },
    {
      "cell_type": "code",
      "execution_count": 3,
      "metadata": {
        "colab": {
          "base_uri": "https://localhost:8080/"
        },
        "id": "Wpt3lsFu9ol0",
        "outputId": "7881ebed-62e3-4c3e-b34b-d290934ad487"
      },
      "outputs": [
        {
          "output_type": "stream",
          "name": "stdout",
          "text": [
            "['öğe1', 'öğe2', 'öğe3']\n",
            "['Ahmet', 'Mehmet', 23, 65, 3.2]\n",
            "['Ali', 'Veli', ['Ayşe', 'Nazan', 'Zeynep'], 34, 65, 33, 5.6]\n"
          ]
        }
      ],
      "source": [
        "liste = [\"öğe1\", \"öğe2\", \"öğe3\"]\n",
        "print(liste)\n",
        "\n",
        "liste = [\"Ahmet\", \"Mehmet\", 23, 65, 3.2]\n",
        "print(liste)\n",
        "\n",
        "liste = [\"Ali\", \"Veli\", [\"Ayşe\", \"Nazan\", \"Zeynep\"], 34, 65, 33, 5.6]\n",
        "print(liste)"
      ]
    },
    {
      "cell_type": "code",
      "source": [
        "for eleman in liste:\n",
        "    print(\"{} adlı öğenin veri tipi: {}\".format(eleman, type(eleman)))"
      ],
      "metadata": {
        "colab": {
          "base_uri": "https://localhost:8080/"
        },
        "id": "Z1zpHtkAAPrL",
        "outputId": "4da9427a-e9eb-4864-b650-0fce6fed6d5c"
      },
      "execution_count": 4,
      "outputs": [
        {
          "output_type": "stream",
          "name": "stdout",
          "text": [
            "Ali adlı öğenin veri tipi: <class 'str'>\n",
            "Veli adlı öğenin veri tipi: <class 'str'>\n",
            "['Ayşe', 'Nazan', 'Zeynep'] adlı öğenin veri tipi: <class 'list'>\n",
            "34 adlı öğenin veri tipi: <class 'int'>\n",
            "65 adlı öğenin veri tipi: <class 'int'>\n",
            "33 adlı öğenin veri tipi: <class 'int'>\n",
            "5.6 adlı öğenin veri tipi: <class 'float'>\n"
          ]
        }
      ]
    },
    {
      "cell_type": "markdown",
      "source": [
        "1 ile 90 arasında rasgele 10 tane farklı sayı seçen program."
      ],
      "metadata": {
        "id": "X6CovdOUAfp7"
      }
    },
    {
      "cell_type": "code",
      "source": [
        "import random\n",
        "elemanS=2\n",
        "yListe=[]\n",
        "for i in range(0,elemanS):\n",
        "  r=random.randint(1, 40)\n",
        "  print(r)\n",
        "  yListe.append(r) # append listeye eleman ekleme\n",
        "  for t in range(0,i):\n",
        "    print(t)\n",
        "    print(r,\" =>\",yListe[t])\n",
        "    if r == yListe[t]:\n",
        "      print(f\"aynı sayı var{i}\")\n",
        "      i=i-1\n",
        "      print(f\"aynı sayı var{i}\")\n",
        "\n",
        "      break\n",
        "\n",
        "yListe.sort()\n",
        "print(yListe)"
      ],
      "metadata": {
        "colab": {
          "base_uri": "https://localhost:8080/"
        },
        "id": "Ebx9m8ahAcys",
        "outputId": "e18f9625-66f0-445d-dd3b-1fecdb196e9b"
      },
      "execution_count": 47,
      "outputs": [
        {
          "output_type": "stream",
          "name": "stdout",
          "text": [
            "16\n",
            "24\n",
            "0\n",
            "24  => 16\n",
            "[16, 24]\n"
          ]
        }
      ]
    },
    {
      "cell_type": "code",
      "source": [],
      "metadata": {
        "id": "6ksBuNYVE3M8"
      },
      "execution_count": null,
      "outputs": []
    },
    {
      "cell_type": "markdown",
      "source": [
        "Liste elde etme yolları"
      ],
      "metadata": {
        "id": "_th3W6rXE30T"
      }
    },
    {
      "cell_type": "code",
      "source": [
        "lis=dir(str)\n",
        "\n",
        "print(lis[0])"
      ],
      "metadata": {
        "colab": {
          "base_uri": "https://localhost:8080/"
        },
        "id": "zt4x0pyiEaqc",
        "outputId": "6d2597d0-edfd-4f87-e9dc-40eec4393781"
      },
      "execution_count": 49,
      "outputs": [
        {
          "output_type": "stream",
          "name": "stdout",
          "text": [
            "__add__\n"
          ]
        }
      ]
    },
    {
      "cell_type": "code",
      "source": [
        "metin=\"Kara kara kartallar karlı iyi tarlalar ararlar. \"\n",
        "\n",
        "parcali=metin.split(\" \")\n",
        "\n",
        "print(parcali)"
      ],
      "metadata": {
        "colab": {
          "base_uri": "https://localhost:8080/"
        },
        "id": "N1lC90IUEj2b",
        "outputId": "4a9b448d-7d50-411f-c79e-e1f81508e0a7"
      },
      "execution_count": 87,
      "outputs": [
        {
          "output_type": "stream",
          "name": "stdout",
          "text": [
            "['Kara', 'kara', 'kartallar', 'karlı', 'iyi', 'tarlalar', 'ararlar.', '']\n"
          ]
        }
      ]
    },
    {
      "cell_type": "code",
      "source": [
        "diller = [\"İngilizce\", \"Fransızca\", \"Türkçe\", \"İtalyanca\", \"İspanyolca\"]\n",
        "len(diller)"
      ],
      "metadata": {
        "colab": {
          "base_uri": "https://localhost:8080/"
        },
        "id": "OzwzQz7yE6l7",
        "outputId": "6c668e59-86f2-41eb-e5a3-b24880f8adb0"
      },
      "execution_count": 58,
      "outputs": [
        {
          "output_type": "execute_result",
          "data": {
            "text/plain": [
              "5"
            ]
          },
          "metadata": {},
          "execution_count": 58
        }
      ]
    },
    {
      "cell_type": "code",
      "source": [
        "sayılar = [[0, 10], [6, 60], [12, 54], [67, 99]]\n",
        "for i in sayılar:\n",
        "    print(i)\n",
        "for i in sayılar:\n",
        "    print(range(i[0], i[1]))\n",
        "\n",
        "for i in sayılar:\n",
        "    print(*range(*i))"
      ],
      "metadata": {
        "colab": {
          "base_uri": "https://localhost:8080/"
        },
        "id": "UEpRx8NeFIQb",
        "outputId": "42e5c8bc-abc3-41c9-b2d2-94dc71169ffa"
      },
      "execution_count": 64,
      "outputs": [
        {
          "output_type": "stream",
          "name": "stdout",
          "text": [
            "[0, 10]\n",
            "[6, 60]\n",
            "[12, 54]\n",
            "[67, 99]\n",
            "range(0, 10)\n",
            "range(6, 60)\n",
            "range(12, 54)\n",
            "range(67, 99)\n",
            "0 1 2 3 4 5 6 7 8 9\n",
            "6 7 8 9 10 11 12 13 14 15 16 17 18 19 20 21 22 23 24 25 26 27 28 29 30 31 32 33 34 35 36 37 38 39 40 41 42 43 44 45 46 47 48 49 50 51 52 53 54 55 56 57 58 59\n",
            "12 13 14 15 16 17 18 19 20 21 22 23 24 25 26 27 28 29 30 31 32 33 34 35 36 37 38 39 40 41 42 43 44 45 46 47 48 49 50 51 52 53\n",
            "67 68 69 70 71 72 73 74 75 76 77 78 79 80 81 82 83 84 85 86 87 88 89 90 91 92 93 94 95 96 97 98\n"
          ]
        }
      ]
    },
    {
      "cell_type": "code",
      "source": [
        "alfabe = \"abcçdefgğhıijklmnoöprsştuüvyz\"\n",
        "print(alfabe)\n",
        "alfabeList=list(alfabe)\n",
        "print(alfabeList)"
      ],
      "metadata": {
        "colab": {
          "base_uri": "https://localhost:8080/"
        },
        "id": "VqRM1HUIFt9D",
        "outputId": "e29466e7-54ec-40ca-a0fd-30c20a5b4f51"
      },
      "execution_count": 67,
      "outputs": [
        {
          "output_type": "stream",
          "name": "stdout",
          "text": [
            "abcçdefgğhıijklmnoöprsştuüvyz\n",
            "['a', 'b', 'c', 'ç', 'd', 'e', 'f', 'g', 'ğ', 'h', 'ı', 'i', 'j', 'k', 'l', 'm', 'n', 'o', 'ö', 'p', 'r', 's', 'ş', 't', 'u', 'ü', 'v', 'y', 'z']\n"
          ]
        }
      ]
    },
    {
      "cell_type": "code",
      "source": [
        "print(alfabeList[5])\n",
        "print(parcali[3])\n",
        "\n",
        "meyveler = [\"elma\", \"armut\", \"çilek\", \"kiraz\"]\n",
        "\n",
        "for meyve in meyveler:\n",
        "    print(meyve)\n",
        "\n",
        "\n",
        "for öğe_sırası in range(len(meyveler)):\n",
        "    print(\"{}. {}\".format(öğe_sırası+1, meyveler[öğe_sırası]))"
      ],
      "metadata": {
        "colab": {
          "base_uri": "https://localhost:8080/"
        },
        "id": "F-Pzy7dXF75b",
        "outputId": "4b71e93b-f3bb-4414-b84c-9f2f233a9beb"
      },
      "execution_count": 73,
      "outputs": [
        {
          "output_type": "stream",
          "name": "stdout",
          "text": [
            "e\n",
            "karlı\n",
            "elma\n",
            "armut\n",
            "çilek\n",
            "kiraz\n",
            "1. elma\n",
            "2. armut\n",
            "3. çilek\n",
            "4. kiraz\n"
          ]
        }
      ]
    },
    {
      "cell_type": "code",
      "source": [
        "for sıra, öğe in enumerate(meyveler, 1):\n",
        "    print(\"{}. {}\".format(sıra, öğe))"
      ],
      "metadata": {
        "colab": {
          "base_uri": "https://localhost:8080/"
        },
        "id": "M4-8qSp5GZfj",
        "outputId": "243d5cf1-ae2f-43ca-fdad-50356d0e3009"
      },
      "execution_count": 74,
      "outputs": [
        {
          "output_type": "stream",
          "name": "stdout",
          "text": [
            "1. elma\n",
            "2. armut\n",
            "3. çilek\n",
            "4. kiraz\n"
          ]
        }
      ]
    },
    {
      "cell_type": "markdown",
      "source": [
        "Liste öğrelerine erişim."
      ],
      "metadata": {
        "id": "4LolxX9ELr_a"
      }
    },
    {
      "cell_type": "code",
      "source": [
        "print(meyveler[-2])"
      ],
      "metadata": {
        "colab": {
          "base_uri": "https://localhost:8080/"
        },
        "id": "XcLLtkw7GtC7",
        "outputId": "590a8a3d-f6ba-4b4a-d1f7-6aa14bcf2b1d"
      },
      "execution_count": 75,
      "outputs": [
        {
          "output_type": "stream",
          "name": "stdout",
          "text": [
            "çilek\n"
          ]
        }
      ]
    },
    {
      "cell_type": "code",
      "source": [
        "print(meyveler[1:3])"
      ],
      "metadata": {
        "colab": {
          "base_uri": "https://localhost:8080/"
        },
        "id": "VEEwljX_Gzk7",
        "outputId": "efb703cc-49b0-499d-dd4a-f88b336897ea"
      },
      "execution_count": 76,
      "outputs": [
        {
          "output_type": "stream",
          "name": "stdout",
          "text": [
            "['armut', 'çilek']\n"
          ]
        }
      ]
    },
    {
      "cell_type": "code",
      "source": [
        "print(meyveler)\n",
        "print(meyveler[::-1])"
      ],
      "metadata": {
        "colab": {
          "base_uri": "https://localhost:8080/"
        },
        "id": "y3ox7zW_G7Rb",
        "outputId": "7710bcb6-a84f-44ba-a75d-817e97f32d53"
      },
      "execution_count": 78,
      "outputs": [
        {
          "output_type": "stream",
          "name": "stdout",
          "text": [
            "['elma', 'armut', 'çilek', 'kiraz']\n",
            "['kiraz', 'çilek', 'armut', 'elma']\n"
          ]
        }
      ]
    },
    {
      "cell_type": "code",
      "source": [
        "liste = [\"Ali\", \"Veli\", [\"Ayşe\", \"Nazan\", \"Zeynep\"], 34, 65, 33, 5.6]\n",
        "print(liste[2])\n",
        "print(liste[2][0])\n",
        "\n",
        "liste2=liste[2]\n",
        "print(liste2[0])\n",
        "print(liste2[1])\n",
        "print(liste2[2])"
      ],
      "metadata": {
        "colab": {
          "base_uri": "https://localhost:8080/"
        },
        "id": "BzrG4lqDLVF6",
        "outputId": "262095f7-e628-460c-d72c-ab9f3b11565b"
      },
      "execution_count": 83,
      "outputs": [
        {
          "output_type": "stream",
          "name": "stdout",
          "text": [
            "['Ayşe', 'Nazan', 'Zeynep']\n",
            "Ayşe\n",
            "Ayşe\n",
            "Nazan\n",
            "Zeynep\n"
          ]
        }
      ]
    },
    {
      "cell_type": "markdown",
      "source": [
        "Liste Öğelerini Değiştirme"
      ],
      "metadata": {
        "id": "dpGTYRW4LozT"
      }
    },
    {
      "cell_type": "code",
      "source": [
        "print(liste)\n",
        "liste[0]=888\n",
        "print(liste)"
      ],
      "metadata": {
        "colab": {
          "base_uri": "https://localhost:8080/"
        },
        "id": "DNsRkxIRLxrj",
        "outputId": "f5cff88f-ac79-46ea-b514-40503e4fb880"
      },
      "execution_count": 84,
      "outputs": [
        {
          "output_type": "stream",
          "name": "stdout",
          "text": [
            "['Ali', 'Veli', ['Ayşe', 'Nazan', 'Zeynep'], 34, 65, 33, 5.6]\n",
            "[888, 'Veli', ['Ayşe', 'Nazan', 'Zeynep'], 34, 65, 33, 5.6]\n"
          ]
        }
      ]
    },
    {
      "cell_type": "code",
      "source": [
        "print(parcali)\n",
        "parcali[-1]=\"deneme\"\n",
        "print(parcali)\n"
      ],
      "metadata": {
        "colab": {
          "base_uri": "https://localhost:8080/"
        },
        "id": "7vodx5_9Lxuj",
        "outputId": "2f6286cf-2118-44e2-cba2-f082e82e6e34"
      },
      "execution_count": 88,
      "outputs": [
        {
          "output_type": "stream",
          "name": "stdout",
          "text": [
            "['Kara', 'kara', 'kartallar', 'karlı', 'iyi', 'tarlalar', 'ararlar.', '']\n",
            "['Kara', 'kara', 'kartallar', 'karlı', 'iyi', 'tarlalar', 'ararlar.', 'deneme']\n"
          ]
        }
      ]
    },
    {
      "cell_type": "code",
      "source": [
        "diller = [\"İngilizce\", \"Fransızca\", \"Türkçe\", \"İtalyanca\", \"İspanyolca\"]\n",
        "print(diller)\n",
        "diller[-1]=\"deneme\"\n",
        "print(diller)\n",
        "\n"
      ],
      "metadata": {
        "colab": {
          "base_uri": "https://localhost:8080/"
        },
        "id": "6vJWiTsqMLIT",
        "outputId": "b1769bc6-c33e-4149-ea22-71f2dc658b87"
      },
      "execution_count": 94,
      "outputs": [
        {
          "output_type": "stream",
          "name": "stdout",
          "text": [
            "['İngilizce', 'Fransızca', 'Türkçe', 'İtalyanca', 'İspanyolca']\n",
            "['İngilizce', 'Fransızca', 'Türkçe', 'İtalyanca', 'deneme']\n"
          ]
        }
      ]
    },
    {
      "cell_type": "code",
      "source": [
        "metin=\"deneme123\"\n",
        "metin=\"aa\"+metin\n",
        "print(metin)\n",
        "metin=\"b\"+metin[3:]\n",
        "print(metin)"
      ],
      "metadata": {
        "colab": {
          "base_uri": "https://localhost:8080/"
        },
        "id": "u94mFYhrMjK7",
        "outputId": "9fc0554d-2320-4cdb-af7f-2cf1cd60a723"
      },
      "execution_count": 96,
      "outputs": [
        {
          "output_type": "stream",
          "name": "stdout",
          "text": [
            "aadeneme123\n",
            "beneme123\n"
          ]
        }
      ]
    },
    {
      "cell_type": "code",
      "source": [
        "sayilar=[89,99,12,5]\n",
        "print(sayilar)\n",
        "sayilar=sayilar+ [3]\n",
        "print(sayilar)\n"
      ],
      "metadata": {
        "colab": {
          "base_uri": "https://localhost:8080/"
        },
        "id": "2CE_dG9kMxHC",
        "outputId": "1ae799cb-998e-44ee-87a0-e8c29d061e2d"
      },
      "execution_count": 99,
      "outputs": [
        {
          "output_type": "stream",
          "name": "stdout",
          "text": [
            "[89, 99, 12, 5]\n",
            "[89, 99, 12, 5, 3]\n"
          ]
        }
      ]
    }
  ]
}