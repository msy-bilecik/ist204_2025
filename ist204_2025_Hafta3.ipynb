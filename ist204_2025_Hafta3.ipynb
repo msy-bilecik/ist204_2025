{
  "nbformat": 4,
  "nbformat_minor": 0,
  "metadata": {
    "colab": {
      "provenance": [],
      "authorship_tag": "ABX9TyORWRcjf+U1MPZXMtQFpkXk",
      "include_colab_link": true
    },
    "kernelspec": {
      "name": "python3",
      "display_name": "Python 3"
    },
    "language_info": {
      "name": "python"
    }
  },
  "cells": [
    {
      "cell_type": "markdown",
      "metadata": {
        "id": "view-in-github",
        "colab_type": "text"
      },
      "source": [
        "<a href=\"https://colab.research.google.com/github/msy-bilecik/ist204_2025/blob/main/ist204_2025_Hafta3.ipynb\" target=\"_parent\"><img src=\"https://colab.research.google.com/assets/colab-badge.svg\" alt=\"Open In Colab\"/></a>"
      ]
    },
    {
      "cell_type": "markdown",
      "source": [
        "Artık Yıl Sorusu:\n",
        "\n",
        "Bir yıl artık yıl ise aşağıdaki şartları sağlaması gerekir.\n",
        "* 4 ile tam bölünür.\n",
        "* eğer 100'ün katı ise 400'e tam bölünür.\n"
      ],
      "metadata": {
        "id": "W0jaLqhP5B9p"
      }
    },
    {
      "cell_type": "code",
      "execution_count": null,
      "metadata": {
        "colab": {
          "base_uri": "https://localhost:8080/"
        },
        "id": "gYTBm0nL479W",
        "outputId": "4c16026c-60e0-43ff-aadd-6ccfec0f3f33"
      },
      "outputs": [
        {
          "output_type": "stream",
          "name": "stdout",
          "text": [
            "Yıl Giriniz:1900\n",
            "Artık Yıl Değil\n"
          ]
        }
      ],
      "source": [
        "yil=int(input(\"Yıl Giriniz:\"))\n",
        "\n",
        "if yil%4==0:\n",
        "    if yil%100==0:\n",
        "        if(yil%400==0):\n",
        "            print(\"Artık Yıl\")\n",
        "        else:\n",
        "            print(\"Artık Yıl Değil\")\n",
        "    else:\n",
        "      print(\"Artık Yıl\")\n",
        "else:\n",
        "    print(\"Artık Yıl Değil\")"
      ]
    },
    {
      "cell_type": "markdown",
      "source": [
        "# Döngüler"
      ],
      "metadata": {
        "id": "9JgKSRl57cZZ"
      }
    },
    {
      "cell_type": "markdown",
      "source": [
        "While"
      ],
      "metadata": {
        "id": "SoKv2e9T8Grw"
      }
    },
    {
      "cell_type": "code",
      "source": [
        "a = 1\n",
        "i=0\n",
        "\n",
        "#while True:\n",
        "    #print(f\"bilgisayar çıldırdı!\")"
      ],
      "metadata": {
        "id": "PCts5cix7gZ4"
      },
      "execution_count": null,
      "outputs": []
    },
    {
      "cell_type": "code",
      "source": [
        "a = 1\n",
        "\n",
        "while a < 10:\n",
        "    a += 1\n",
        "    print(f\"bilgisayar yine çıldırdı! {a}\")"
      ],
      "metadata": {
        "colab": {
          "base_uri": "https://localhost:8080/"
        },
        "id": "lRxjxTAu8tRh",
        "outputId": "7be54540-768a-4e0c-9f93-49fe35574426"
      },
      "execution_count": null,
      "outputs": [
        {
          "output_type": "stream",
          "name": "stdout",
          "text": [
            "bilgisayar yine çıldırdı! 2\n",
            "bilgisayar yine çıldırdı! 3\n",
            "bilgisayar yine çıldırdı! 4\n",
            "bilgisayar yine çıldırdı! 5\n",
            "bilgisayar yine çıldırdı! 6\n",
            "bilgisayar yine çıldırdı! 7\n",
            "bilgisayar yine çıldırdı! 8\n",
            "bilgisayar yine çıldırdı! 9\n",
            "bilgisayar yine çıldırdı! 10\n"
          ]
        }
      ]
    },
    {
      "cell_type": "markdown",
      "source": [
        "Hesap makinesi\n",
        "```\n",
        "(1) Toplama\n",
        "(2) Çıkarma\n",
        "(3) Çarpma\n",
        "(4) Bölme\n",
        "(5) Mod\n",
        "(6) Üssü\n",
        "(0) Çıkış\n",
        "İşlem : 5\n",
        "Sayı1 : 11\n",
        "Sayı2 : 2\n",
        "11 % 2 = 1\n",
        "\n",
        "(1) Toplama\n",
        "(2) Çıkarma\n",
        "(3) Çarpma\n",
        "(4) Bölme\n",
        "(5) Mod\n",
        "(6) Üssü\n",
        "(0) Çıkış\n",
        "İşlem : _\n",
        "```\n",
        "\n",
        "\n",
        "\n"
      ],
      "metadata": {
        "id": "yna-JnRU8_HQ"
      }
    },
    {
      "cell_type": "code",
      "source": [
        "print(\"(1) Toplama\",\"(2) Çıkarma \",\"(3) Çarpma\",\n",
        "      \"(4) Bölme\",\"(5) Mod\",\"(6) Üssü\",\"(0) Çıkış\",sep=\"\\n\")\n",
        "islem=int(input(\"İşlem:\"))\n",
        "\n",
        "while islem != 0:\n",
        "    if islem in [1,2,3,4,5,6]:\n",
        "      a=int(input(\"Birinci sayı:\"))\n",
        "      b=int(input(\"İkinci sayı:\"))\n",
        "      if islem == 1:\n",
        "          print(f\"{a}+{b}={a+b}\")\n",
        "      elif islem==2:\n",
        "          print(f\"{a}-{b}={a-b}\")\n",
        "      elif islem==3:\n",
        "          print(f\"{a}*{b}={a*b}\")\n",
        "      elif islem==4:\n",
        "          print(f\"{a}/{b}={a/b}\")\n",
        "      elif islem==5:\n",
        "          print(f\"{a}%{b}={a%b}\")\n",
        "      elif islem==6:\n",
        "          print(f\"{a}**{b}={a**b}\")\n",
        "      #elif islem ==0:\n",
        "    else:\n",
        "        print(\"Geçersiz işlem\")\n",
        "    print(\"\\n\")\n",
        "    print(\"(1) Toplama\",\"(2) Çıkarma \",\"(3) Çarpma\",\n",
        "      \"(4) Bölme\",\"(5) Mod\",\"(6) Üssü\",\"(0) Çıkış\",sep=\"\\n\")\n",
        "    islem=int(input(\"İşlem:\"))\n",
        "\n",
        "\n",
        "print(\"yine bekleriz. \")"
      ],
      "metadata": {
        "colab": {
          "base_uri": "https://localhost:8080/"
        },
        "id": "Z3wWKcJG8-hJ",
        "outputId": "c4a9a71d-3863-4920-8a68-b286ec61e0a0"
      },
      "execution_count": null,
      "outputs": [
        {
          "output_type": "stream",
          "name": "stdout",
          "text": [
            "(1) Toplama\n",
            "(2) Çıkarma \n",
            "(3) Çarpma\n",
            "(4) Bölme\n",
            "(5) Mod\n",
            "(6) Üssü\n",
            "(0) Çıkış\n",
            "İşlem:88\n",
            "Geçersiz işlem\n",
            "\n",
            "\n",
            "(1) Toplama\n",
            "(2) Çıkarma \n",
            "(3) Çarpma\n",
            "(4) Bölme\n",
            "(5) Mod\n",
            "(6) Üssü\n",
            "(0) Çıkış\n",
            "İşlem:3\n",
            "Birinci sayı:13\n",
            "İkinci sayı:3\n",
            "13*3=39\n",
            "\n",
            "\n",
            "(1) Toplama\n",
            "(2) Çıkarma \n",
            "(3) Çarpma\n",
            "(4) Bölme\n",
            "(5) Mod\n",
            "(6) Üssü\n",
            "(0) Çıkış\n",
            "İşlem:0\n",
            "yine bekleriz. \n"
          ]
        }
      ]
    },
    {
      "cell_type": "code",
      "source": [
        "i=1\n",
        "while i<=10:\n",
        "\n",
        "  if(i%3==0):\n",
        "    pass # continue\n",
        "  elif(i==7):\n",
        "    break\n",
        "  else:\n",
        "    print(i)\n",
        "  i+=1\n"
      ],
      "metadata": {
        "colab": {
          "base_uri": "https://localhost:8080/"
        },
        "id": "exCLzSXSBdoJ",
        "outputId": "a6eef45c-f2e4-4d81-de28-47b7a979e04f"
      },
      "execution_count": null,
      "outputs": [
        {
          "output_type": "stream",
          "name": "stdout",
          "text": [
            "1\n",
            "2\n",
            "4\n",
            "5\n"
          ]
        }
      ]
    },
    {
      "cell_type": "markdown",
      "source": [
        "For Döngüsü"
      ],
      "metadata": {
        "id": "aCrCBYDMC1Bx"
      }
    },
    {
      "cell_type": "code",
      "source": [
        "tr_harfler = \"fenerbahçe\"\n",
        "\n",
        "for harf in tr_harfler:\n",
        "    print(harf)"
      ],
      "metadata": {
        "colab": {
          "base_uri": "https://localhost:8080/"
        },
        "id": "-M05jea8Cz7J",
        "outputId": "53b20238-924b-4a3d-c599-bc306157e34c"
      },
      "execution_count": null,
      "outputs": [
        {
          "output_type": "stream",
          "name": "stdout",
          "text": [
            "f\n",
            "e\n",
            "n\n",
            "e\n",
            "r\n",
            "b\n",
            "a\n",
            "h\n",
            "ç\n",
            "e\n"
          ]
        }
      ]
    },
    {
      "cell_type": "code",
      "source": [
        "sayilar = [1,2,3,6,9,88,18]\n",
        "\n",
        "for sayi in sayilar:\n",
        "    print(sayi)"
      ],
      "metadata": {
        "colab": {
          "base_uri": "https://localhost:8080/"
        },
        "id": "EUWYnG5ZDC-5",
        "outputId": "30b38669-babf-4685-b8f2-82c30c39de1d"
      },
      "execution_count": null,
      "outputs": [
        {
          "output_type": "stream",
          "name": "stdout",
          "text": [
            "1\n",
            "2\n",
            "3\n",
            "6\n",
            "9\n",
            "88\n",
            "18\n"
          ]
        }
      ]
    },
    {
      "cell_type": "code",
      "source": [
        "for i in range(1,11,3):\n",
        "  print(i)"
      ],
      "metadata": {
        "colab": {
          "base_uri": "https://localhost:8080/"
        },
        "id": "Kbzi_b92DU5a",
        "outputId": "942d9efc-d4b3-4b49-9544-a79eb11063e0"
      },
      "execution_count": null,
      "outputs": [
        {
          "output_type": "stream",
          "name": "stdout",
          "text": [
            "1\n",
            "4\n",
            "7\n",
            "10\n"
          ]
        }
      ]
    },
    {
      "cell_type": "markdown",
      "source": [],
      "metadata": {
        "id": "bojjZm3RD3xZ"
      }
    },
    {
      "cell_type": "code",
      "source": [
        "print(\"Çarpım Tablosu\")\n",
        "for i in range(1,11):\n",
        "  for t in range(1,11):\n",
        "    print(f\"{i:2} *{t:2} = {i*t:2}\", end=\" \")\n",
        "  print(\"\")"
      ],
      "metadata": {
        "colab": {
          "base_uri": "https://localhost:8080/"
        },
        "id": "Sgy20zJgD1pp",
        "outputId": "c1f1cb38-d104-4a89-ec72-b2b8c000830f"
      },
      "execution_count": null,
      "outputs": [
        {
          "output_type": "stream",
          "name": "stdout",
          "text": [
            "Çarpım Tablosu\n",
            " 1 * 1 =  1  1 * 2 =  2  1 * 3 =  3  1 * 4 =  4  1 * 5 =  5  1 * 6 =  6  1 * 7 =  7  1 * 8 =  8  1 * 9 =  9  1 *10 = 10 \n",
            " 2 * 1 =  2  2 * 2 =  4  2 * 3 =  6  2 * 4 =  8  2 * 5 = 10  2 * 6 = 12  2 * 7 = 14  2 * 8 = 16  2 * 9 = 18  2 *10 = 20 \n",
            " 3 * 1 =  3  3 * 2 =  6  3 * 3 =  9  3 * 4 = 12  3 * 5 = 15  3 * 6 = 18  3 * 7 = 21  3 * 8 = 24  3 * 9 = 27  3 *10 = 30 \n",
            " 4 * 1 =  4  4 * 2 =  8  4 * 3 = 12  4 * 4 = 16  4 * 5 = 20  4 * 6 = 24  4 * 7 = 28  4 * 8 = 32  4 * 9 = 36  4 *10 = 40 \n",
            " 5 * 1 =  5  5 * 2 = 10  5 * 3 = 15  5 * 4 = 20  5 * 5 = 25  5 * 6 = 30  5 * 7 = 35  5 * 8 = 40  5 * 9 = 45  5 *10 = 50 \n",
            " 6 * 1 =  6  6 * 2 = 12  6 * 3 = 18  6 * 4 = 24  6 * 5 = 30  6 * 6 = 36  6 * 7 = 42  6 * 8 = 48  6 * 9 = 54  6 *10 = 60 \n",
            " 7 * 1 =  7  7 * 2 = 14  7 * 3 = 21  7 * 4 = 28  7 * 5 = 35  7 * 6 = 42  7 * 7 = 49  7 * 8 = 56  7 * 9 = 63  7 *10 = 70 \n",
            " 8 * 1 =  8  8 * 2 = 16  8 * 3 = 24  8 * 4 = 32  8 * 5 = 40  8 * 6 = 48  8 * 7 = 56  8 * 8 = 64  8 * 9 = 72  8 *10 = 80 \n",
            " 9 * 1 =  9  9 * 2 = 18  9 * 3 = 27  9 * 4 = 36  9 * 5 = 45  9 * 6 = 54  9 * 7 = 63  9 * 8 = 72  9 * 9 = 81  9 *10 = 90 \n",
            "10 * 1 = 10 10 * 2 = 20 10 * 3 = 30 10 * 4 = 40 10 * 5 = 50 10 * 6 = 60 10 * 7 = 70 10 * 8 = 80 10 * 9 = 90 10 *10 = 100 \n"
          ]
        }
      ]
    },
    {
      "cell_type": "markdown",
      "source": [
        "len"
      ],
      "metadata": {
        "id": "vsIpDDE6LKXJ"
      }
    },
    {
      "cell_type": "code",
      "source": [
        "a=input(\"Bir metin giriniz:\")\n",
        "print(len(a))"
      ],
      "metadata": {
        "colab": {
          "base_uri": "https://localhost:8080/"
        },
        "id": "0pifeEQGLJ9k",
        "outputId": "605134c8-ec5e-424f-f053-330076cf6109"
      },
      "execution_count": null,
      "outputs": [
        {
          "output_type": "stream",
          "name": "stdout",
          "text": [
            "Bir metin giriniz:deli dolu \n",
            "10\n"
          ]
        }
      ]
    },
    {
      "cell_type": "code",
      "source": [
        "metin=\"Bir of çeksem karşıki dağlar yıkılır. \"\n",
        "\n",
        "print(\"ö\" in metin)\n",
        "print(\"o\" in metin)\n",
        "print(\"of\" in metin)\n",
        "print(\"ufo\" in metin)"
      ],
      "metadata": {
        "colab": {
          "base_uri": "https://localhost:8080/"
        },
        "id": "XLchEunBLhsx",
        "outputId": "2a27fe99-ebb0-47d5-aa62-e7ad93a58039"
      },
      "execution_count": null,
      "outputs": [
        {
          "output_type": "stream",
          "name": "stdout",
          "text": [
            "False\n",
            "True\n",
            "True\n",
            "False\n"
          ]
        }
      ]
    },
    {
      "cell_type": "markdown",
      "source": [
        "döngülerde else"
      ],
      "metadata": {
        "id": "VcGO_ESsM_TB"
      }
    },
    {
      "cell_type": "code",
      "source": [
        "for i in range(5):\n",
        "  print(i)\n",
        "else:\n",
        "  print(\"döngüde else mi olur yaw\")"
      ],
      "metadata": {
        "colab": {
          "base_uri": "https://localhost:8080/"
        },
        "id": "OFDU5jHxM9ki",
        "outputId": "9f35a140-9d62-42e0-8982-c3d630c2d035"
      },
      "execution_count": null,
      "outputs": [
        {
          "output_type": "stream",
          "name": "stdout",
          "text": [
            "0\n",
            "1\n",
            "2\n",
            "3\n",
            "4\n",
            "döngüde else mi olur yaw\n"
          ]
        }
      ]
    },
    {
      "cell_type": "code",
      "source": [
        "i=88\n",
        "while i<=10:\n",
        "  print(\"Merhaba Dünyalı\")\n",
        "  i+=1\n",
        "else:\n",
        "  print(\"genemi döngüde else\")"
      ],
      "metadata": {
        "colab": {
          "base_uri": "https://localhost:8080/"
        },
        "id": "kv_5-zQ8NJ3q",
        "outputId": "687109d1-382d-41b5-9159-a79796550d85"
      },
      "execution_count": null,
      "outputs": [
        {
          "output_type": "stream",
          "name": "stdout",
          "text": [
            "genemi döngüde else\n"
          ]
        }
      ]
    },
    {
      "cell_type": "markdown",
      "source": [
        "Metin: Bir\n",
        "B\n",
        "Bi\n",
        "Bir"
      ],
      "metadata": {
        "id": "pZ0AGYT1PCRa"
      }
    },
    {
      "cell_type": "code",
      "source": [
        "metin=input(\"Metin : \")\n",
        "for i in range(len(metin)):\n",
        "  for t in range(i+1):\n",
        "    print(metin[t],end=\"\")\n",
        "  print(\"\")\n"
      ],
      "metadata": {
        "colab": {
          "base_uri": "https://localhost:8080/"
        },
        "id": "gPgQa_RiPDIB",
        "outputId": "d1b74c61-51e8-4cb9-cd78-028f146aace5"
      },
      "execution_count": null,
      "outputs": [
        {
          "output_type": "stream",
          "name": "stdout",
          "text": [
            "Metin : Bir\n",
            "B\n",
            "Bi\n",
            "Bir\n"
          ]
        }
      ]
    },
    {
      "cell_type": "markdown",
      "source": [
        "ters döngü örneği"
      ],
      "metadata": {
        "id": "-j4btDMMSw9J"
      }
    },
    {
      "cell_type": "code",
      "source": [
        "#sayi=int(input(\"bir sayı gir: \"))\n",
        "sayi=3\n",
        "for i in range(sayi,0,-1):\n",
        "  for t in range(i):\n",
        "    print(\"x\",end=\"\")\n",
        "  print(\"\")"
      ],
      "metadata": {
        "colab": {
          "base_uri": "https://localhost:8080/"
        },
        "id": "qVSdY5MjRsA5",
        "outputId": "3eb5695e-5ee8-4abc-bd65-b7ab96510a7d"
      },
      "execution_count": null,
      "outputs": [
        {
          "output_type": "stream",
          "name": "stdout",
          "text": [
            "xxx\n",
            "xx\n",
            "x\n"
          ]
        }
      ]
    },
    {
      "cell_type": "code",
      "source": [
        "#sayi=int(input(\"bir sayı gir: \"))\n",
        "sayi=3\n",
        "for i in range(sayi,0,-1):\n",
        "  print(\"x\"*i)\n"
      ],
      "metadata": {
        "colab": {
          "base_uri": "https://localhost:8080/"
        },
        "id": "F4HreuY7SUpC",
        "outputId": "3642d8bf-a177-4478-e526-fcbf45d86635"
      },
      "execution_count": null,
      "outputs": [
        {
          "output_type": "stream",
          "name": "stdout",
          "text": [
            "xxx\n",
            "xx\n",
            "x\n"
          ]
        }
      ]
    },
    {
      "cell_type": "code",
      "source": [
        "#sayi=int(input(\"bir sayı gir: \"))\n",
        "sayi=3\n",
        "for i in range(sayi,0,-1):\n",
        "  print(\" \"*(sayi-i),\"x\"*i,sep=\"\")\n"
      ],
      "metadata": {
        "colab": {
          "base_uri": "https://localhost:8080/"
        },
        "id": "dYnzJVHuSfBp",
        "outputId": "12e09936-fdce-42bb-8640-b72b93d39e75"
      },
      "execution_count": null,
      "outputs": [
        {
          "output_type": "stream",
          "name": "stdout",
          "text": [
            "xxx\n",
            " xx\n",
            "  x\n"
          ]
        }
      ]
    },
    {
      "cell_type": "markdown",
      "source": [
        "Klavyeden girilen sayının tam bölenlerini bulan program"
      ],
      "metadata": {
        "id": "_wox-nlPVesa"
      }
    },
    {
      "cell_type": "code",
      "source": [
        "sayi=int(input(\"sayı: \"))\n",
        "for i in range(1,sayi+1):\n",
        "  if(sayi%i==0):\n",
        "    print(i)"
      ],
      "metadata": {
        "colab": {
          "base_uri": "https://localhost:8080/"
        },
        "id": "CHtom3O7VcPC",
        "outputId": "7545c6f9-7436-4c47-eff0-2ea1ce1c7669"
      },
      "execution_count": null,
      "outputs": [
        {
          "output_type": "stream",
          "name": "stdout",
          "text": [
            "sayı: 88\n",
            "1\n",
            "2\n",
            "4\n",
            "8\n",
            "11\n",
            "22\n",
            "44\n",
            "88\n"
          ]
        }
      ]
    },
    {
      "cell_type": "markdown",
      "source": [
        "Klavyeden girilen sayının asal sayı olup olmadığını bulan program."
      ],
      "metadata": {
        "id": "-9dqJlbrV6Cy"
      }
    },
    {
      "cell_type": "code",
      "source": [
        "sayi=int(input(\"sayı: \"))\n",
        "durum=False\n",
        "for i in range(2,sayi):\n",
        "  if(sayi%i==0):\n",
        "    d=True\n",
        "    break\n",
        "\n",
        "if(d):\n",
        "  print(\"asal değil\")\n",
        "else:\n",
        "  print(\"asal\")"
      ],
      "metadata": {
        "colab": {
          "base_uri": "https://localhost:8080/"
        },
        "id": "NBD6OH3nV4lS",
        "outputId": "43da07ec-dbc9-4bdc-b372-64816d716c55"
      },
      "execution_count": null,
      "outputs": [
        {
          "output_type": "stream",
          "name": "stdout",
          "text": [
            "sayı: 654654654654654654654654\n",
            "asal değil\n"
          ]
        }
      ]
    },
    {
      "cell_type": "markdown",
      "source": [
        "Klavyeden girilen sayının mükemmel sayı olup olmadığını bulan program.\n",
        "Mükemmel sayı: Mükemmel sayı, sayılar teorisinde, kendisi hariç pozitif tam bölenlerinin toplamı kendisine eşit olan sayı.\n",
        "\n",
        "0 girilene kadar sonsuz sayıda deneme yapılsın istiyoruz."
      ],
      "metadata": {
        "id": "L3ulHo-gW0gS"
      }
    },
    {
      "cell_type": "markdown",
      "source": [],
      "metadata": {
        "id": "BJIbazHwXKgy"
      }
    },
    {
      "cell_type": "code",
      "source": [
        "while True:\n",
        "  sayi=int(input(\"sayı: \"))\n",
        "  if(sayi==0):\n",
        "    break\n",
        "  toplam=0\n",
        "  for i in range(1,sayi):\n",
        "    if(sayi%i==0):\n",
        "      toplam+=i\n",
        "\n",
        "  if(toplam==sayi):\n",
        "    print(f\" {sayi} mükemmel sayı\")\n",
        "  else:\n",
        "    print(f\" {sayi} mükemmel sayı değil\")\n",
        "\n"
      ],
      "metadata": {
        "colab": {
          "base_uri": "https://localhost:8080/"
        },
        "id": "OmOWBQL_Wyrh",
        "outputId": "93f895fc-4db3-4e4a-f603-274945050bf7"
      },
      "execution_count": null,
      "outputs": [
        {
          "name": "stdout",
          "output_type": "stream",
          "text": [
            "sayı: 99\n",
            " 99 mükemmel sayı değil\n",
            "sayı: 0\n"
          ]
        }
      ]
    },
    {
      "cell_type": "markdown",
      "source": [
        "Listeler 4.Hafta Giriş"
      ],
      "metadata": {
        "id": "HzuK7GnteOTS"
      }
    },
    {
      "cell_type": "code",
      "source": [
        "liste = [\"Ali\", \"Veli\", [\"Ayşe\", \"Nazan\", \"Zeynep\"], 34, 65, 33, 5.6]"
      ],
      "metadata": {
        "id": "AwOP4aFGeN9C"
      },
      "execution_count": null,
      "outputs": []
    },
    {
      "cell_type": "code",
      "source": [
        "print(liste[0])\n",
        "print(liste[2][2])"
      ],
      "metadata": {
        "colab": {
          "base_uri": "https://localhost:8080/"
        },
        "id": "feXzMLhseR1i",
        "outputId": "5d34e26e-4dcb-448f-cb0a-28bf0d7400bd"
      },
      "execution_count": null,
      "outputs": [
        {
          "output_type": "stream",
          "name": "stdout",
          "text": [
            "Ali\n",
            "Zeynep\n"
          ]
        }
      ]
    },
    {
      "cell_type": "code",
      "source": [
        "for öğe in liste:\n",
        "    print(\"{} adlı öğenin veri tipi: {}\".format(öğe, type(öğe)))"
      ],
      "metadata": {
        "colab": {
          "base_uri": "https://localhost:8080/"
        },
        "id": "T-pA4KquegUy",
        "outputId": "03cd812d-0310-44e9-88eb-1a217648f0d5"
      },
      "execution_count": null,
      "outputs": [
        {
          "output_type": "stream",
          "name": "stdout",
          "text": [
            "Ali adlı öğenin veri tipi: <class 'str'>\n",
            "Veli adlı öğenin veri tipi: <class 'str'>\n",
            "['Ayşe', 'Nazan', 'Zeynep'] adlı öğenin veri tipi: <class 'list'>\n",
            "34 adlı öğenin veri tipi: <class 'int'>\n",
            "65 adlı öğenin veri tipi: <class 'int'>\n",
            "33 adlı öğenin veri tipi: <class 'int'>\n",
            "5.6 adlı öğenin veri tipi: <class 'float'>\n"
          ]
        }
      ]
    },
    {
      "cell_type": "code",
      "source": [
        "liste2 = [\"Hale\", \"Jale\", \"Lale\", 12, 23]\n"
      ],
      "metadata": {
        "id": "Hqaexxn4fA8j"
      },
      "execution_count": null,
      "outputs": []
    },
    {
      "cell_type": "code",
      "source": [
        "print(liste2)\n",
        "\n",
        "print(liste2[1:])\n",
        "print(liste2[1:4])\n",
        "print(liste2[:3])\n",
        "print(liste2[0:3])"
      ],
      "metadata": {
        "colab": {
          "base_uri": "https://localhost:8080/"
        },
        "id": "vLYRUvhKfK9h",
        "outputId": "921bfd30-933e-49da-9187-b23e09320db6"
      },
      "execution_count": null,
      "outputs": [
        {
          "output_type": "stream",
          "name": "stdout",
          "text": [
            "['Hale', 'Jale', 'Lale', 12, 23]\n",
            "['Jale', 'Lale', 12, 23]\n",
            "['Jale', 'Lale', 12]\n",
            "['Hale', 'Jale', 'Lale']\n",
            "['Hale', 'Jale', 'Lale']\n"
          ]
        }
      ]
    }
  ]
}