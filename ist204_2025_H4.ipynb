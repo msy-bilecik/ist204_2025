{
  "nbformat": 4,
  "nbformat_minor": 0,
  "metadata": {
    "colab": {
      "provenance": [],
      "authorship_tag": "ABX9TyPjXdywxQNaaUxAd0Z3Ftag",
      "include_colab_link": true
    },
    "kernelspec": {
      "name": "python3",
      "display_name": "Python 3"
    },
    "language_info": {
      "name": "python"
    }
  },
  "cells": [
    {
      "cell_type": "markdown",
      "metadata": {
        "id": "view-in-github",
        "colab_type": "text"
      },
      "source": [
        "<a href=\"https://colab.research.google.com/github/msy-bilecik/ist204_2025/blob/main/ist204_2025_H4.ipynb\" target=\"_parent\"><img src=\"https://colab.research.google.com/assets/colab-badge.svg\" alt=\"Open In Colab\"/></a>"
      ]
    },
    {
      "cell_type": "markdown",
      "source": [
        "# Listeler"
      ],
      "metadata": {
        "id": "Vt08_TRb9vR8"
      }
    },
    {
      "cell_type": "code",
      "execution_count": 3,
      "metadata": {
        "colab": {
          "base_uri": "https://localhost:8080/"
        },
        "id": "Wpt3lsFu9ol0",
        "outputId": "7881ebed-62e3-4c3e-b34b-d290934ad487"
      },
      "outputs": [
        {
          "output_type": "stream",
          "name": "stdout",
          "text": [
            "['öğe1', 'öğe2', 'öğe3']\n",
            "['Ahmet', 'Mehmet', 23, 65, 3.2]\n",
            "['Ali', 'Veli', ['Ayşe', 'Nazan', 'Zeynep'], 34, 65, 33, 5.6]\n"
          ]
        }
      ],
      "source": [
        "liste = [\"öğe1\", \"öğe2\", \"öğe3\"]\n",
        "print(liste)\n",
        "\n",
        "liste = [\"Ahmet\", \"Mehmet\", 23, 65, 3.2]\n",
        "print(liste)\n",
        "\n",
        "liste = [\"Ali\", \"Veli\", [\"Ayşe\", \"Nazan\", \"Zeynep\"], 34, 65, 33, 5.6]\n",
        "print(liste)"
      ]
    },
    {
      "cell_type": "code",
      "source": [
        "for eleman in liste:\n",
        "    print(\"{} adlı öğenin veri tipi: {}\".format(eleman, type(eleman)))"
      ],
      "metadata": {
        "colab": {
          "base_uri": "https://localhost:8080/"
        },
        "id": "Z1zpHtkAAPrL",
        "outputId": "4da9427a-e9eb-4864-b650-0fce6fed6d5c"
      },
      "execution_count": 4,
      "outputs": [
        {
          "output_type": "stream",
          "name": "stdout",
          "text": [
            "Ali adlı öğenin veri tipi: <class 'str'>\n",
            "Veli adlı öğenin veri tipi: <class 'str'>\n",
            "['Ayşe', 'Nazan', 'Zeynep'] adlı öğenin veri tipi: <class 'list'>\n",
            "34 adlı öğenin veri tipi: <class 'int'>\n",
            "65 adlı öğenin veri tipi: <class 'int'>\n",
            "33 adlı öğenin veri tipi: <class 'int'>\n",
            "5.6 adlı öğenin veri tipi: <class 'float'>\n"
          ]
        }
      ]
    },
    {
      "cell_type": "markdown",
      "source": [
        "1 ile 90 arasında rasgele 10 tane farklı sayı seçen program."
      ],
      "metadata": {
        "id": "X6CovdOUAfp7"
      }
    },
    {
      "cell_type": "code",
      "source": [
        "import random\n",
        "elemanS=2\n",
        "yListe=[]\n",
        "for i in range(0,elemanS):\n",
        "  r=random.randint(1, 40)\n",
        "  print(r)\n",
        "  yListe.append(r) # append listeye eleman ekleme\n",
        "  for t in range(0,i):\n",
        "    print(t)\n",
        "    print(r,\" =>\",yListe[t])\n",
        "    if r == yListe[t]:\n",
        "      print(f\"aynı sayı var{i}\")\n",
        "      i=i-1\n",
        "      print(f\"aynı sayı var{i}\")\n",
        "\n",
        "      break\n",
        "\n",
        "yListe.sort()\n",
        "print(yListe)"
      ],
      "metadata": {
        "colab": {
          "base_uri": "https://localhost:8080/"
        },
        "id": "Ebx9m8ahAcys",
        "outputId": "e18f9625-66f0-445d-dd3b-1fecdb196e9b"
      },
      "execution_count": 47,
      "outputs": [
        {
          "output_type": "stream",
          "name": "stdout",
          "text": [
            "16\n",
            "24\n",
            "0\n",
            "24  => 16\n",
            "[16, 24]\n"
          ]
        }
      ]
    },
    {
      "cell_type": "code",
      "source": [],
      "metadata": {
        "id": "6ksBuNYVE3M8"
      },
      "execution_count": null,
      "outputs": []
    },
    {
      "cell_type": "markdown",
      "source": [
        "Liste elde etme yolları"
      ],
      "metadata": {
        "id": "_th3W6rXE30T"
      }
    },
    {
      "cell_type": "code",
      "source": [
        "lis=dir(str)\n",
        "\n",
        "print(lis[0])"
      ],
      "metadata": {
        "colab": {
          "base_uri": "https://localhost:8080/"
        },
        "id": "zt4x0pyiEaqc",
        "outputId": "6d2597d0-edfd-4f87-e9dc-40eec4393781"
      },
      "execution_count": 49,
      "outputs": [
        {
          "output_type": "stream",
          "name": "stdout",
          "text": [
            "__add__\n"
          ]
        }
      ]
    },
    {
      "cell_type": "code",
      "source": [
        "metin=\"Kara kara kartallar karlı iyi tarlalar ararlar. \"\n",
        "\n",
        "parcali=metin.split(\" \")\n",
        "\n",
        "print(parcali)"
      ],
      "metadata": {
        "colab": {
          "base_uri": "https://localhost:8080/"
        },
        "id": "N1lC90IUEj2b",
        "outputId": "4a9b448d-7d50-411f-c79e-e1f81508e0a7"
      },
      "execution_count": 87,
      "outputs": [
        {
          "output_type": "stream",
          "name": "stdout",
          "text": [
            "['Kara', 'kara', 'kartallar', 'karlı', 'iyi', 'tarlalar', 'ararlar.', '']\n"
          ]
        }
      ]
    },
    {
      "cell_type": "code",
      "source": [
        "diller = [\"İngilizce\", \"Fransızca\", \"Türkçe\", \"İtalyanca\", \"İspanyolca\"]\n",
        "len(diller)"
      ],
      "metadata": {
        "colab": {
          "base_uri": "https://localhost:8080/"
        },
        "id": "OzwzQz7yE6l7",
        "outputId": "6c668e59-86f2-41eb-e5a3-b24880f8adb0"
      },
      "execution_count": 58,
      "outputs": [
        {
          "output_type": "execute_result",
          "data": {
            "text/plain": [
              "5"
            ]
          },
          "metadata": {},
          "execution_count": 58
        }
      ]
    },
    {
      "cell_type": "code",
      "source": [
        "sayılar = [[0, 10], [6, 60], [12, 54], [67, 99]]\n",
        "for i in sayılar:\n",
        "    print(i)\n",
        "for i in sayılar:\n",
        "    print(range(i[0], i[1]))\n",
        "\n",
        "for i in sayılar:\n",
        "    print(*range(*i))"
      ],
      "metadata": {
        "colab": {
          "base_uri": "https://localhost:8080/"
        },
        "id": "UEpRx8NeFIQb",
        "outputId": "42e5c8bc-abc3-41c9-b2d2-94dc71169ffa"
      },
      "execution_count": 64,
      "outputs": [
        {
          "output_type": "stream",
          "name": "stdout",
          "text": [
            "[0, 10]\n",
            "[6, 60]\n",
            "[12, 54]\n",
            "[67, 99]\n",
            "range(0, 10)\n",
            "range(6, 60)\n",
            "range(12, 54)\n",
            "range(67, 99)\n",
            "0 1 2 3 4 5 6 7 8 9\n",
            "6 7 8 9 10 11 12 13 14 15 16 17 18 19 20 21 22 23 24 25 26 27 28 29 30 31 32 33 34 35 36 37 38 39 40 41 42 43 44 45 46 47 48 49 50 51 52 53 54 55 56 57 58 59\n",
            "12 13 14 15 16 17 18 19 20 21 22 23 24 25 26 27 28 29 30 31 32 33 34 35 36 37 38 39 40 41 42 43 44 45 46 47 48 49 50 51 52 53\n",
            "67 68 69 70 71 72 73 74 75 76 77 78 79 80 81 82 83 84 85 86 87 88 89 90 91 92 93 94 95 96 97 98\n"
          ]
        }
      ]
    },
    {
      "cell_type": "code",
      "source": [
        "alfabe = \"abcçdefgğhıijklmnoöprsştuüvyz\"\n",
        "print(alfabe)\n",
        "alfabeList=list(alfabe)\n",
        "print(alfabeList)"
      ],
      "metadata": {
        "colab": {
          "base_uri": "https://localhost:8080/"
        },
        "id": "VqRM1HUIFt9D",
        "outputId": "e29466e7-54ec-40ca-a0fd-30c20a5b4f51"
      },
      "execution_count": 67,
      "outputs": [
        {
          "output_type": "stream",
          "name": "stdout",
          "text": [
            "abcçdefgğhıijklmnoöprsştuüvyz\n",
            "['a', 'b', 'c', 'ç', 'd', 'e', 'f', 'g', 'ğ', 'h', 'ı', 'i', 'j', 'k', 'l', 'm', 'n', 'o', 'ö', 'p', 'r', 's', 'ş', 't', 'u', 'ü', 'v', 'y', 'z']\n"
          ]
        }
      ]
    },
    {
      "cell_type": "code",
      "source": [
        "print(alfabeList[5])\n",
        "print(parcali[3])\n",
        "\n",
        "meyveler = [\"elma\", \"armut\", \"çilek\", \"kiraz\"]\n",
        "\n",
        "for meyve in meyveler:\n",
        "    print(meyve)\n",
        "\n",
        "\n",
        "for öğe_sırası in range(len(meyveler)):\n",
        "    print(\"{}. {}\".format(öğe_sırası+1, meyveler[öğe_sırası]))"
      ],
      "metadata": {
        "colab": {
          "base_uri": "https://localhost:8080/"
        },
        "id": "F-Pzy7dXF75b",
        "outputId": "4b71e93b-f3bb-4414-b84c-9f2f233a9beb"
      },
      "execution_count": 73,
      "outputs": [
        {
          "output_type": "stream",
          "name": "stdout",
          "text": [
            "e\n",
            "karlı\n",
            "elma\n",
            "armut\n",
            "çilek\n",
            "kiraz\n",
            "1. elma\n",
            "2. armut\n",
            "3. çilek\n",
            "4. kiraz\n"
          ]
        }
      ]
    },
    {
      "cell_type": "code",
      "source": [
        "for sıra, öğe in enumerate(meyveler, 1):\n",
        "    print(\"{}. {}\".format(sıra, öğe))"
      ],
      "metadata": {
        "colab": {
          "base_uri": "https://localhost:8080/"
        },
        "id": "M4-8qSp5GZfj",
        "outputId": "243d5cf1-ae2f-43ca-fdad-50356d0e3009"
      },
      "execution_count": 74,
      "outputs": [
        {
          "output_type": "stream",
          "name": "stdout",
          "text": [
            "1. elma\n",
            "2. armut\n",
            "3. çilek\n",
            "4. kiraz\n"
          ]
        }
      ]
    },
    {
      "cell_type": "markdown",
      "source": [
        "Liste öğrelerine erişim."
      ],
      "metadata": {
        "id": "4LolxX9ELr_a"
      }
    },
    {
      "cell_type": "code",
      "source": [
        "print(meyveler[-2])"
      ],
      "metadata": {
        "colab": {
          "base_uri": "https://localhost:8080/"
        },
        "id": "XcLLtkw7GtC7",
        "outputId": "590a8a3d-f6ba-4b4a-d1f7-6aa14bcf2b1d"
      },
      "execution_count": 75,
      "outputs": [
        {
          "output_type": "stream",
          "name": "stdout",
          "text": [
            "çilek\n"
          ]
        }
      ]
    },
    {
      "cell_type": "code",
      "source": [
        "print(meyveler[1:3])"
      ],
      "metadata": {
        "colab": {
          "base_uri": "https://localhost:8080/"
        },
        "id": "VEEwljX_Gzk7",
        "outputId": "efb703cc-49b0-499d-dd4a-f88b336897ea"
      },
      "execution_count": 76,
      "outputs": [
        {
          "output_type": "stream",
          "name": "stdout",
          "text": [
            "['armut', 'çilek']\n"
          ]
        }
      ]
    },
    {
      "cell_type": "code",
      "source": [
        "print(meyveler)\n",
        "print(meyveler[::-1])"
      ],
      "metadata": {
        "colab": {
          "base_uri": "https://localhost:8080/"
        },
        "id": "y3ox7zW_G7Rb",
        "outputId": "7710bcb6-a84f-44ba-a75d-817e97f32d53"
      },
      "execution_count": 78,
      "outputs": [
        {
          "output_type": "stream",
          "name": "stdout",
          "text": [
            "['elma', 'armut', 'çilek', 'kiraz']\n",
            "['kiraz', 'çilek', 'armut', 'elma']\n"
          ]
        }
      ]
    },
    {
      "cell_type": "code",
      "source": [
        "liste = [\"Ali\", \"Veli\", [\"Ayşe\", \"Nazan\", \"Zeynep\"], 34, 65, 33, 5.6]\n",
        "print(liste[2])\n",
        "print(liste[2][0])\n",
        "\n",
        "liste2=liste[2]\n",
        "print(liste2[0])\n",
        "print(liste2[1])\n",
        "print(liste2[2])"
      ],
      "metadata": {
        "colab": {
          "base_uri": "https://localhost:8080/"
        },
        "id": "BzrG4lqDLVF6",
        "outputId": "262095f7-e628-460c-d72c-ab9f3b11565b"
      },
      "execution_count": 83,
      "outputs": [
        {
          "output_type": "stream",
          "name": "stdout",
          "text": [
            "['Ayşe', 'Nazan', 'Zeynep']\n",
            "Ayşe\n",
            "Ayşe\n",
            "Nazan\n",
            "Zeynep\n"
          ]
        }
      ]
    },
    {
      "cell_type": "markdown",
      "source": [
        "Liste Öğelerini Değiştirme"
      ],
      "metadata": {
        "id": "dpGTYRW4LozT"
      }
    },
    {
      "cell_type": "code",
      "source": [
        "print(liste)\n",
        "liste[0]=888\n",
        "print(liste)"
      ],
      "metadata": {
        "colab": {
          "base_uri": "https://localhost:8080/"
        },
        "id": "DNsRkxIRLxrj",
        "outputId": "f5cff88f-ac79-46ea-b514-40503e4fb880"
      },
      "execution_count": 84,
      "outputs": [
        {
          "output_type": "stream",
          "name": "stdout",
          "text": [
            "['Ali', 'Veli', ['Ayşe', 'Nazan', 'Zeynep'], 34, 65, 33, 5.6]\n",
            "[888, 'Veli', ['Ayşe', 'Nazan', 'Zeynep'], 34, 65, 33, 5.6]\n"
          ]
        }
      ]
    },
    {
      "cell_type": "code",
      "source": [
        "print(parcali)\n",
        "parcali[-1]=\"deneme\"\n",
        "print(parcali)\n"
      ],
      "metadata": {
        "colab": {
          "base_uri": "https://localhost:8080/"
        },
        "id": "7vodx5_9Lxuj",
        "outputId": "2f6286cf-2118-44e2-cba2-f082e82e6e34"
      },
      "execution_count": 88,
      "outputs": [
        {
          "output_type": "stream",
          "name": "stdout",
          "text": [
            "['Kara', 'kara', 'kartallar', 'karlı', 'iyi', 'tarlalar', 'ararlar.', '']\n",
            "['Kara', 'kara', 'kartallar', 'karlı', 'iyi', 'tarlalar', 'ararlar.', 'deneme']\n"
          ]
        }
      ]
    },
    {
      "cell_type": "code",
      "source": [
        "diller = [\"İngilizce\", \"Fransızca\", \"Türkçe\", \"İtalyanca\", \"İspanyolca\"]\n",
        "print(diller)\n",
        "diller[-1]=\"deneme\"\n",
        "print(diller)\n",
        "\n"
      ],
      "metadata": {
        "colab": {
          "base_uri": "https://localhost:8080/"
        },
        "id": "6vJWiTsqMLIT",
        "outputId": "b1769bc6-c33e-4149-ea22-71f2dc658b87"
      },
      "execution_count": 94,
      "outputs": [
        {
          "output_type": "stream",
          "name": "stdout",
          "text": [
            "['İngilizce', 'Fransızca', 'Türkçe', 'İtalyanca', 'İspanyolca']\n",
            "['İngilizce', 'Fransızca', 'Türkçe', 'İtalyanca', 'deneme']\n"
          ]
        }
      ]
    },
    {
      "cell_type": "code",
      "source": [
        "metin=\"deneme123\"\n",
        "metin=\"aa\"+metin\n",
        "print(metin)\n",
        "metin=\"b\"+metin[3:]\n",
        "print(metin)"
      ],
      "metadata": {
        "colab": {
          "base_uri": "https://localhost:8080/"
        },
        "id": "u94mFYhrMjK7",
        "outputId": "9fc0554d-2320-4cdb-af7f-2cf1cd60a723"
      },
      "execution_count": 96,
      "outputs": [
        {
          "output_type": "stream",
          "name": "stdout",
          "text": [
            "aadeneme123\n",
            "beneme123\n"
          ]
        }
      ]
    },
    {
      "cell_type": "code",
      "source": [
        "sayilar=[89,99,12,5]\n",
        "print(sayilar)\n",
        "sayilar=sayilar+ [3]\n",
        "print(sayilar)\n"
      ],
      "metadata": {
        "colab": {
          "base_uri": "https://localhost:8080/"
        },
        "id": "2CE_dG9kMxHC",
        "outputId": "1ae799cb-998e-44ee-87a0-e8c29d061e2d"
      },
      "execution_count": 99,
      "outputs": [
        {
          "output_type": "stream",
          "name": "stdout",
          "text": [
            "[89, 99, 12, 5]\n",
            "[89, 99, 12, 5, 3]\n"
          ]
        }
      ]
    },
    {
      "cell_type": "code",
      "source": [
        "sayılar = 0\n",
        "adet=3\n",
        "\n",
        "for i in range(adet):\n",
        "    sayılar += int(input(\"not: \"))\n",
        "\n",
        "print(sayılar/adet)"
      ],
      "metadata": {
        "colab": {
          "base_uri": "https://localhost:8080/"
        },
        "id": "WtjoMWAGPSLU",
        "outputId": "3d766300-6035-489b-89b8-c7dac21d4fa8"
      },
      "execution_count": 2,
      "outputs": [
        {
          "output_type": "stream",
          "name": "stdout",
          "text": [
            "not: 35\n",
            "not: 45\n",
            "not: 55\n",
            "45.0\n"
          ]
        }
      ]
    },
    {
      "cell_type": "code",
      "source": [
        "sayılar = 0\n",
        "adet=3\n",
        "notlar = []\n",
        "\n",
        "for i in range(adet):\n",
        "    veri = int(input(\"{}. not: \".format(i+1)))\n",
        "    sayılar += veri\n",
        "    notlar += [veri]\n",
        "\n",
        "print(\"Girdiğiniz notlar: \", notlar)\n",
        "print(\"Not ortalamanız: \", sayılar/adet)"
      ],
      "metadata": {
        "colab": {
          "base_uri": "https://localhost:8080/"
        },
        "id": "ochcYbAOPhek",
        "outputId": "ea2c9cfc-16b6-4bcd-c043-a881ce65c19d"
      },
      "execution_count": 4,
      "outputs": [
        {
          "output_type": "stream",
          "name": "stdout",
          "text": [
            "1. not: 50\n",
            "2. not: 60\n",
            "3. not: 75\n",
            "Girdiğiniz notlar:  [50, 60, 75]\n",
            "Not ortalamanız:  61.666666666666664\n"
          ]
        }
      ]
    },
    {
      "cell_type": "code",
      "source": [
        "import random\n",
        "elemanS=10\n",
        "yListe=[]\n",
        "i=0\n",
        "while i<elemanS:\n",
        "\n",
        "  r=random.randint(1, 40)\n",
        "  print(r)\n",
        "\n",
        "  if r not in yListe:\n",
        "    yListe.append(r) # append listeye eleman ekleme\n",
        "  else:\n",
        "    i=i-1\n",
        "    print(f\"aynı sayı var{r} i={i}\")\n",
        "  i+=1\n",
        "yListe.sort()\n",
        "print(yListe)"
      ],
      "metadata": {
        "colab": {
          "base_uri": "https://localhost:8080/"
        },
        "id": "ItyeICy9Q-rz",
        "outputId": "1ab70d2d-1005-4b10-9b92-db7ca69724a9"
      },
      "execution_count": 13,
      "outputs": [
        {
          "output_type": "stream",
          "name": "stdout",
          "text": [
            "1\n",
            "33\n",
            "4\n",
            "39\n",
            "32\n",
            "39\n",
            "aynı sayı var39 i=4\n",
            "40\n",
            "2\n",
            "18\n",
            "10\n",
            "26\n",
            "[1, 2, 4, 10, 18, 26, 32, 33, 39, 40]\n"
          ]
        }
      ]
    },
    {
      "cell_type": "markdown",
      "source": [
        "listeden öge çıkarmak"
      ],
      "metadata": {
        "id": "Tx77GgBiSWp6"
      }
    },
    {
      "cell_type": "code",
      "source": [
        "diller = [\"İngilizce\", \"Fransızca\", \"Türkçe\", \"İtalyanca\", \"İspanyolca\"]\n",
        "print(diller)\n",
        "del diller[1]\n",
        "print(diller)\n",
        "del diller[1:3]\n",
        "print(diller)"
      ],
      "metadata": {
        "colab": {
          "base_uri": "https://localhost:8080/"
        },
        "id": "f6Ens1M_SZ2r",
        "outputId": "50ecb893-6e06-4f9a-95c1-64c28fb81ddc"
      },
      "execution_count": 17,
      "outputs": [
        {
          "output_type": "stream",
          "name": "stdout",
          "text": [
            "['İngilizce', 'Fransızca', 'Türkçe', 'İtalyanca', 'İspanyolca']\n",
            "['İngilizce', 'Türkçe', 'İtalyanca', 'İspanyolca']\n",
            "['İngilizce', 'İspanyolca']\n"
          ]
        }
      ]
    },
    {
      "cell_type": "code",
      "source": [
        "liste = [i for i in range(0,1000,3)]\n",
        "print(liste)"
      ],
      "metadata": {
        "colab": {
          "base_uri": "https://localhost:8080/"
        },
        "id": "-X8kvcKgTW3p",
        "outputId": "617c363a-df6c-451f-dd60-2f41d7a73791"
      },
      "execution_count": 23,
      "outputs": [
        {
          "output_type": "stream",
          "name": "stdout",
          "text": [
            "[0, 3, 6, 9, 12, 15, 18, 21, 24, 27, 30, 33, 36, 39, 42, 45, 48, 51, 54, 57, 60, 63, 66, 69, 72, 75, 78, 81, 84, 87, 90, 93, 96, 99, 102, 105, 108, 111, 114, 117, 120, 123, 126, 129, 132, 135, 138, 141, 144, 147, 150, 153, 156, 159, 162, 165, 168, 171, 174, 177, 180, 183, 186, 189, 192, 195, 198, 201, 204, 207, 210, 213, 216, 219, 222, 225, 228, 231, 234, 237, 240, 243, 246, 249, 252, 255, 258, 261, 264, 267, 270, 273, 276, 279, 282, 285, 288, 291, 294, 297, 300, 303, 306, 309, 312, 315, 318, 321, 324, 327, 330, 333, 336, 339, 342, 345, 348, 351, 354, 357, 360, 363, 366, 369, 372, 375, 378, 381, 384, 387, 390, 393, 396, 399, 402, 405, 408, 411, 414, 417, 420, 423, 426, 429, 432, 435, 438, 441, 444, 447, 450, 453, 456, 459, 462, 465, 468, 471, 474, 477, 480, 483, 486, 489, 492, 495, 498, 501, 504, 507, 510, 513, 516, 519, 522, 525, 528, 531, 534, 537, 540, 543, 546, 549, 552, 555, 558, 561, 564, 567, 570, 573, 576, 579, 582, 585, 588, 591, 594, 597, 600, 603, 606, 609, 612, 615, 618, 621, 624, 627, 630, 633, 636, 639, 642, 645, 648, 651, 654, 657, 660, 663, 666, 669, 672, 675, 678, 681, 684, 687, 690, 693, 696, 699, 702, 705, 708, 711, 714, 717, 720, 723, 726, 729, 732, 735, 738, 741, 744, 747, 750, 753, 756, 759, 762, 765, 768, 771, 774, 777, 780, 783, 786, 789, 792, 795, 798, 801, 804, 807, 810, 813, 816, 819, 822, 825, 828, 831, 834, 837, 840, 843, 846, 849, 852, 855, 858, 861, 864, 867, 870, 873, 876, 879, 882, 885, 888, 891, 894, 897, 900, 903, 906, 909, 912, 915, 918, 921, 924, 927, 930, 933, 936, 939, 942, 945, 948, 951, 954, 957, 960, 963, 966, 969, 972, 975, 978, 981, 984, 987, 990, 993, 996, 999]\n"
          ]
        }
      ]
    },
    {
      "cell_type": "code",
      "source": [
        "liste = []\n",
        "\n",
        "for i in range(1000):\n",
        "    liste += [i]\n",
        "print(liste)"
      ],
      "metadata": {
        "colab": {
          "base_uri": "https://localhost:8080/"
        },
        "id": "zs04BcfEThGR",
        "outputId": "ff52ad4f-cefd-4f70-ee4d-4b4d6f65772c"
      },
      "execution_count": 20,
      "outputs": [
        {
          "output_type": "stream",
          "name": "stdout",
          "text": [
            "[0, 1, 2, 3, 4, 5, 6, 7, 8, 9, 10, 11, 12, 13, 14, 15, 16, 17, 18, 19, 20, 21, 22, 23, 24, 25, 26, 27, 28, 29, 30, 31, 32, 33, 34, 35, 36, 37, 38, 39, 40, 41, 42, 43, 44, 45, 46, 47, 48, 49, 50, 51, 52, 53, 54, 55, 56, 57, 58, 59, 60, 61, 62, 63, 64, 65, 66, 67, 68, 69, 70, 71, 72, 73, 74, 75, 76, 77, 78, 79, 80, 81, 82, 83, 84, 85, 86, 87, 88, 89, 90, 91, 92, 93, 94, 95, 96, 97, 98, 99, 100, 101, 102, 103, 104, 105, 106, 107, 108, 109, 110, 111, 112, 113, 114, 115, 116, 117, 118, 119, 120, 121, 122, 123, 124, 125, 126, 127, 128, 129, 130, 131, 132, 133, 134, 135, 136, 137, 138, 139, 140, 141, 142, 143, 144, 145, 146, 147, 148, 149, 150, 151, 152, 153, 154, 155, 156, 157, 158, 159, 160, 161, 162, 163, 164, 165, 166, 167, 168, 169, 170, 171, 172, 173, 174, 175, 176, 177, 178, 179, 180, 181, 182, 183, 184, 185, 186, 187, 188, 189, 190, 191, 192, 193, 194, 195, 196, 197, 198, 199, 200, 201, 202, 203, 204, 205, 206, 207, 208, 209, 210, 211, 212, 213, 214, 215, 216, 217, 218, 219, 220, 221, 222, 223, 224, 225, 226, 227, 228, 229, 230, 231, 232, 233, 234, 235, 236, 237, 238, 239, 240, 241, 242, 243, 244, 245, 246, 247, 248, 249, 250, 251, 252, 253, 254, 255, 256, 257, 258, 259, 260, 261, 262, 263, 264, 265, 266, 267, 268, 269, 270, 271, 272, 273, 274, 275, 276, 277, 278, 279, 280, 281, 282, 283, 284, 285, 286, 287, 288, 289, 290, 291, 292, 293, 294, 295, 296, 297, 298, 299, 300, 301, 302, 303, 304, 305, 306, 307, 308, 309, 310, 311, 312, 313, 314, 315, 316, 317, 318, 319, 320, 321, 322, 323, 324, 325, 326, 327, 328, 329, 330, 331, 332, 333, 334, 335, 336, 337, 338, 339, 340, 341, 342, 343, 344, 345, 346, 347, 348, 349, 350, 351, 352, 353, 354, 355, 356, 357, 358, 359, 360, 361, 362, 363, 364, 365, 366, 367, 368, 369, 370, 371, 372, 373, 374, 375, 376, 377, 378, 379, 380, 381, 382, 383, 384, 385, 386, 387, 388, 389, 390, 391, 392, 393, 394, 395, 396, 397, 398, 399, 400, 401, 402, 403, 404, 405, 406, 407, 408, 409, 410, 411, 412, 413, 414, 415, 416, 417, 418, 419, 420, 421, 422, 423, 424, 425, 426, 427, 428, 429, 430, 431, 432, 433, 434, 435, 436, 437, 438, 439, 440, 441, 442, 443, 444, 445, 446, 447, 448, 449, 450, 451, 452, 453, 454, 455, 456, 457, 458, 459, 460, 461, 462, 463, 464, 465, 466, 467, 468, 469, 470, 471, 472, 473, 474, 475, 476, 477, 478, 479, 480, 481, 482, 483, 484, 485, 486, 487, 488, 489, 490, 491, 492, 493, 494, 495, 496, 497, 498, 499, 500, 501, 502, 503, 504, 505, 506, 507, 508, 509, 510, 511, 512, 513, 514, 515, 516, 517, 518, 519, 520, 521, 522, 523, 524, 525, 526, 527, 528, 529, 530, 531, 532, 533, 534, 535, 536, 537, 538, 539, 540, 541, 542, 543, 544, 545, 546, 547, 548, 549, 550, 551, 552, 553, 554, 555, 556, 557, 558, 559, 560, 561, 562, 563, 564, 565, 566, 567, 568, 569, 570, 571, 572, 573, 574, 575, 576, 577, 578, 579, 580, 581, 582, 583, 584, 585, 586, 587, 588, 589, 590, 591, 592, 593, 594, 595, 596, 597, 598, 599, 600, 601, 602, 603, 604, 605, 606, 607, 608, 609, 610, 611, 612, 613, 614, 615, 616, 617, 618, 619, 620, 621, 622, 623, 624, 625, 626, 627, 628, 629, 630, 631, 632, 633, 634, 635, 636, 637, 638, 639, 640, 641, 642, 643, 644, 645, 646, 647, 648, 649, 650, 651, 652, 653, 654, 655, 656, 657, 658, 659, 660, 661, 662, 663, 664, 665, 666, 667, 668, 669, 670, 671, 672, 673, 674, 675, 676, 677, 678, 679, 680, 681, 682, 683, 684, 685, 686, 687, 688, 689, 690, 691, 692, 693, 694, 695, 696, 697, 698, 699, 700, 701, 702, 703, 704, 705, 706, 707, 708, 709, 710, 711, 712, 713, 714, 715, 716, 717, 718, 719, 720, 721, 722, 723, 724, 725, 726, 727, 728, 729, 730, 731, 732, 733, 734, 735, 736, 737, 738, 739, 740, 741, 742, 743, 744, 745, 746, 747, 748, 749, 750, 751, 752, 753, 754, 755, 756, 757, 758, 759, 760, 761, 762, 763, 764, 765, 766, 767, 768, 769, 770, 771, 772, 773, 774, 775, 776, 777, 778, 779, 780, 781, 782, 783, 784, 785, 786, 787, 788, 789, 790, 791, 792, 793, 794, 795, 796, 797, 798, 799, 800, 801, 802, 803, 804, 805, 806, 807, 808, 809, 810, 811, 812, 813, 814, 815, 816, 817, 818, 819, 820, 821, 822, 823, 824, 825, 826, 827, 828, 829, 830, 831, 832, 833, 834, 835, 836, 837, 838, 839, 840, 841, 842, 843, 844, 845, 846, 847, 848, 849, 850, 851, 852, 853, 854, 855, 856, 857, 858, 859, 860, 861, 862, 863, 864, 865, 866, 867, 868, 869, 870, 871, 872, 873, 874, 875, 876, 877, 878, 879, 880, 881, 882, 883, 884, 885, 886, 887, 888, 889, 890, 891, 892, 893, 894, 895, 896, 897, 898, 899, 900, 901, 902, 903, 904, 905, 906, 907, 908, 909, 910, 911, 912, 913, 914, 915, 916, 917, 918, 919, 920, 921, 922, 923, 924, 925, 926, 927, 928, 929, 930, 931, 932, 933, 934, 935, 936, 937, 938, 939, 940, 941, 942, 943, 944, 945, 946, 947, 948, 949, 950, 951, 952, 953, 954, 955, 956, 957, 958, 959, 960, 961, 962, 963, 964, 965, 966, 967, 968, 969, 970, 971, 972, 973, 974, 975, 976, 977, 978, 979, 980, 981, 982, 983, 984, 985, 986, 987, 988, 989, 990, 991, 992, 993, 994, 995, 996, 997, 998, 999]\n"
          ]
        }
      ]
    },
    {
      "cell_type": "code",
      "source": [
        "liste = [i for i in range(1000) if (i % 5==0 and i%13 == 1)]\n",
        "print(liste)"
      ],
      "metadata": {
        "colab": {
          "base_uri": "https://localhost:8080/"
        },
        "id": "zm2tJo-NT_Si",
        "outputId": "f4979508-81f9-447e-927f-8d15b975c9df"
      },
      "execution_count": 25,
      "outputs": [
        {
          "output_type": "stream",
          "name": "stdout",
          "text": [
            "[40, 105, 170, 235, 300, 365, 430, 495, 560, 625, 690, 755, 820, 885, 950]\n"
          ]
        }
      ]
    },
    {
      "cell_type": "code",
      "source": [
        "liste = [[1, 2, 3],\n",
        "         [4, 5, 6],\n",
        "         [7, 8, 9],\n",
        "         [10, 11, 12]]\n",
        "\n",
        "tümü = []\n",
        "\n",
        "for i in liste:\n",
        "    for z in i:\n",
        "        tümü += [z]\n",
        "\n",
        "print(tümü)"
      ],
      "metadata": {
        "colab": {
          "base_uri": "https://localhost:8080/"
        },
        "id": "72bQbnibYfsR",
        "outputId": "9a320cba-9cd0-47a6-8aab-9560b098c441"
      },
      "execution_count": 26,
      "outputs": [
        {
          "output_type": "stream",
          "name": "stdout",
          "text": [
            "[1, 2, 3, 4, 5, 6, 7, 8, 9, 10, 11, 12]\n"
          ]
        }
      ]
    },
    {
      "cell_type": "code",
      "source": [
        "liste = [[1, 2, 3],\n",
        "         [4, 5, 6],\n",
        "         [7, 8, 9],\n",
        "         [10, 11, 12]]\n",
        "\n",
        "tümü = [z for i in liste for z in i]\n",
        "print(tümü)"
      ],
      "metadata": {
        "colab": {
          "base_uri": "https://localhost:8080/"
        },
        "id": "DGg4IVJjYpcC",
        "outputId": "5c78857b-0dbb-4c8b-dbed-6dc7dc2775d9"
      },
      "execution_count": 27,
      "outputs": [
        {
          "output_type": "stream",
          "name": "stdout",
          "text": [
            "[1, 2, 3, 4, 5, 6, 7, 8, 9, 10, 11, 12]\n"
          ]
        }
      ]
    },
    {
      "cell_type": "markdown",
      "source": [
        "## liste fonksiyonları\n",
        "\n",
        "* append()\tListenin sonuna bir eleman ekler.\n",
        "* clear()\tRemoves all the elements from the list\n",
        "* copy()\tReturns a copy of the list\n",
        "* count()\tReturns the number of elements with the specified value\n",
        "* extend()\tAdd the elements of a list (or any iterable), to the end of the current list\n",
        "* index()\tReturns the index of the first element with the specified value\n",
        "* insert()\tAdds an element at the specified position\n",
        "* pop()\tRemoves the element at the specified position\n",
        "* remove()\tRemoves the first item with the specified value\n",
        "* reverse()\tReverses the order of the list\n",
        "* sort()\tSorts the list"
      ],
      "metadata": {
        "id": "4pNn-u8RcLpL"
      }
    },
    {
      "cell_type": "code",
      "source": [
        "fruits = [\"apple\", \"banana\", \"cherry\"]\n",
        "fruits.append(\"orange\")\n",
        "print(fruits)\n",
        "\n",
        "fruits = [\"apple\", \"banana\", \"cherry\"]\n",
        "fruits.clear()\n",
        "print(fruits)\n",
        "\n",
        "fruits = ['apple', 'banana', 'cherry', 'orange']\n",
        "x = fruits.copy()\n",
        "print(id(x), id(fruits))\n",
        "fruits.clear()\n",
        "print(x)\n",
        "\n",
        "fruits = [ \"banana\", \"apple\", \"cherry\",  \"cherry\",\"apple\", \"banana\", \"cherry\"]\n",
        "x = fruits.count(\"cherry\")\n",
        "print(x)\n",
        "\n",
        "fruits = ['apple', 'banana', 'cherry']\n",
        "cars = ['Ford', 'BMW', 'Volvo']\n",
        "fruits.extend(cars)\n",
        "print(fruits)\n",
        "\n",
        "fruits = ['apple', 'banana', 'cherry']\n",
        "cars = ['Ford', 'BMW', 'Volvo']\n",
        "fruits=fruits+cars\n",
        "print(fruits)\n",
        "\n",
        "fruits = ['apple', 'banana', 'cherry','banana','cherry','cherry']\n",
        "x = fruits.index(\"cherry\")\n",
        "print(x)\n",
        "\n",
        "fruits = ['apple', 'banana', 'cherry']\n",
        "fruits.insert(1, \"orange\")\n",
        "print(fruits)\n",
        "\n",
        "fruits = ['apple', 'banana', 'cherry']\n",
        "d=fruits.pop()\n",
        "print(fruits)\n",
        "print(d)\n",
        "\n",
        "fruits = ['apple', 'banana', 'cherry']\n",
        "fruits.remove(\"banana\")\n",
        "print(fruits)\n",
        "\n",
        "\n",
        "fruits = ['apple', 'banana', 'cherry','apple', 'banana', 'cherry']\n",
        "fruits.reverse()\n",
        "print(fruits)\n",
        "\n",
        "fruits = ['apple', 'banana', 'cherry','apple', 'banana', 'cherry']\n",
        "fruits.sort()\n",
        "print(fruits)\n",
        "\n",
        "fruits = ['apple', 'banana', 'cherry','apple', 'banana', 'cherry']\n",
        "fruits.sort(reverse = True)\n",
        "print(fruits)\n"
      ],
      "metadata": {
        "colab": {
          "base_uri": "https://localhost:8080/"
        },
        "id": "HdehuTPccLTp",
        "outputId": "bf94b7cd-c8cf-43fc-b775-43c60efd24ad"
      },
      "execution_count": 62,
      "outputs": [
        {
          "output_type": "stream",
          "name": "stdout",
          "text": [
            "['apple', 'banana', 'cherry', 'orange']\n",
            "[]\n",
            "137374465981184 137373754398592\n",
            "['apple', 'banana', 'cherry', 'orange']\n",
            "3\n",
            "['apple', 'banana', 'cherry', 'Ford', 'BMW', 'Volvo']\n",
            "['apple', 'banana', 'cherry', 'Ford', 'BMW', 'Volvo']\n",
            "2\n",
            "['apple', 'orange', 'banana', 'cherry']\n",
            "['apple', 'banana']\n",
            "cherry\n",
            "['apple', 'cherry']\n",
            "['cherry', 'banana', 'apple', 'cherry', 'banana', 'apple']\n",
            "['apple', 'apple', 'banana', 'banana', 'cherry', 'cherry']\n",
            "['cherry', 'cherry', 'banana', 'banana', 'apple', 'apple']\n"
          ]
        }
      ]
    },
    {
      "cell_type": "code",
      "source": [],
      "metadata": {
        "id": "XzOjpqmXeDY5"
      },
      "execution_count": null,
      "outputs": []
    },
    {
      "cell_type": "markdown",
      "source": [
        "## demetler"
      ],
      "metadata": {
        "id": "OnmUSPkrZl4i"
      }
    },
    {
      "cell_type": "markdown",
      "source": [
        "demet oluşturma"
      ],
      "metadata": {
        "id": "FnkRN8FQZquy"
      }
    },
    {
      "cell_type": "code",
      "source": [
        "demet = (\"ahmet\", \"mehmet\", 23, 45)\n",
        "print(demet)\n",
        "print(type(demet))\n",
        "liste3 = [\"ahmet\", \"mehmet\", 23, 45]\n",
        "print(liste3)\n",
        "print(type(liste3))"
      ],
      "metadata": {
        "colab": {
          "base_uri": "https://localhost:8080/"
        },
        "id": "yhCHWCJYZs1S",
        "outputId": "2f9a33de-699a-4e52-eb37-e306a63b2803"
      },
      "execution_count": 30,
      "outputs": [
        {
          "output_type": "stream",
          "name": "stdout",
          "text": [
            "('ahmet', 'mehmet', 23, 45)\n",
            "<class 'tuple'>\n",
            "['ahmet', 'mehmet', 23, 45]\n",
            "<class 'list'>\n"
          ]
        }
      ]
    },
    {
      "cell_type": "code",
      "source": [
        "demet = \"ahmet\", \"mehmet\", 23, 45\n",
        "print(demet)"
      ],
      "metadata": {
        "colab": {
          "base_uri": "https://localhost:8080/"
        },
        "id": "2HRm2VpLaA_y",
        "outputId": "838d606f-83ac-4ac6-cca9-50cebd650433"
      },
      "execution_count": 33,
      "outputs": [
        {
          "output_type": "stream",
          "name": "stdout",
          "text": [
            "('ahmet', 'mehmet', 23, 45)\n"
          ]
        }
      ]
    },
    {
      "cell_type": "code",
      "source": [
        "demet2=tuple('abcdefg')\n",
        "print(demet2)\n",
        "liste3=list('abcdefg')\n",
        "print(liste3)\n",
        "\n",
        "print(demet2[3])\n",
        "print(demet2[3:5])\n",
        "demet2[4]=\"ö\"\n"
      ],
      "metadata": {
        "colab": {
          "base_uri": "https://localhost:8080/",
          "height": 245
        },
        "id": "0g7wgxggaIYq",
        "outputId": "f0e1036a-6089-4dbe-d61b-5ef01e9c0ac5"
      },
      "execution_count": 39,
      "outputs": [
        {
          "output_type": "stream",
          "name": "stdout",
          "text": [
            "('a', 'b', 'c', 'd', 'e', 'f', 'g')\n",
            "['a', 'b', 'c', 'd', 'e', 'f', 'g']\n",
            "d\n",
            "('d', 'e')\n"
          ]
        },
        {
          "output_type": "error",
          "ename": "TypeError",
          "evalue": "'tuple' object does not support item assignment",
          "traceback": [
            "\u001b[0;31m---------------------------------------------------------------------------\u001b[0m",
            "\u001b[0;31mTypeError\u001b[0m                                 Traceback (most recent call last)",
            "\u001b[0;32m<ipython-input-39-ec265591eddf>\u001b[0m in \u001b[0;36m<cell line: 0>\u001b[0;34m()\u001b[0m\n\u001b[1;32m      6\u001b[0m \u001b[0mprint\u001b[0m\u001b[0;34m(\u001b[0m\u001b[0mdemet2\u001b[0m\u001b[0;34m[\u001b[0m\u001b[0;36m3\u001b[0m\u001b[0;34m]\u001b[0m\u001b[0;34m)\u001b[0m\u001b[0;34m\u001b[0m\u001b[0;34m\u001b[0m\u001b[0m\n\u001b[1;32m      7\u001b[0m \u001b[0mprint\u001b[0m\u001b[0;34m(\u001b[0m\u001b[0mdemet2\u001b[0m\u001b[0;34m[\u001b[0m\u001b[0;36m3\u001b[0m\u001b[0;34m:\u001b[0m\u001b[0;36m5\u001b[0m\u001b[0;34m]\u001b[0m\u001b[0;34m)\u001b[0m\u001b[0;34m\u001b[0m\u001b[0;34m\u001b[0m\u001b[0m\n\u001b[0;32m----> 8\u001b[0;31m \u001b[0mdemet2\u001b[0m\u001b[0;34m[\u001b[0m\u001b[0;36m4\u001b[0m\u001b[0;34m]\u001b[0m\u001b[0;34m=\u001b[0m\u001b[0;34m\"ö\"\u001b[0m\u001b[0;34m\u001b[0m\u001b[0;34m\u001b[0m\u001b[0m\n\u001b[0m",
            "\u001b[0;31mTypeError\u001b[0m: 'tuple' object does not support item assignment"
          ]
        }
      ]
    },
    {
      "cell_type": "code",
      "source": [],
      "metadata": {
        "id": "RePtwKoKa-Pi"
      },
      "execution_count": null,
      "outputs": []
    },
    {
      "cell_type": "markdown",
      "source": [
        "# Sorular"
      ],
      "metadata": {
        "id": "338cB7-zfHJw"
      }
    },
    {
      "cell_type": "markdown",
      "source": [
        "1. Klavyeden girilen 2 sayı arasında istenilen adet kadar rastgele elemandan oluşan bir liste oluşturunuz.\n",
        "\n",
        "2. Liste içinde klavyeden girilen bir değerin kaç kere olduğunu bulan bir program yazınız. (count kullanmadan)\n",
        "\n",
        "3.  1 ile 1000000 arasındaki sayılardan asal olanları bir liste olarak gösteriniz.\n",
        "\n",
        "4.  1 ile 5000 arasında 47'ye tam bölünen çift sayıların ortalamasını bulan program.\n",
        "\n",
        "5. Bir görüntü dosyası Python ortamında nasıl işleme alınır? Örnekle gösteriniz.\n",
        "\n"
      ],
      "metadata": {
        "id": "lh-Kn34xfKAx"
      }
    },
    {
      "cell_type": "code",
      "source": [],
      "metadata": {
        "id": "qYtLcnMjfGeY"
      },
      "execution_count": null,
      "outputs": []
    }
  ]
}