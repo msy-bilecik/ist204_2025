{
  "cells": [
    {
      "cell_type": "markdown",
      "metadata": {
        "id": "view-in-github",
        "colab_type": "text"
      },
      "source": [
        "<a href=\"https://colab.research.google.com/github/msy-bilecik/ist204_2025/blob/main/ist204_2025_h15_F.ipynb\" target=\"_parent\"><img src=\"https://colab.research.google.com/assets/colab-badge.svg\" alt=\"Open In Colab\"/></a>"
      ]
    },
    {
      "cell_type": "markdown",
      "metadata": {
        "id": "v-9rBjCo5ogP"
      },
      "source": [
        "# genel tekrar\n",
        "\n",
        "https://python-istihza.yazbel.com/index.html\n",
        "\n",
        "https://github.com/msy-bilecik/ist204_2025"
      ]
    },
    {
      "cell_type": "code",
      "execution_count": 1,
      "metadata": {
        "colab": {
          "base_uri": "https://localhost:8080/"
        },
        "id": "c30FZJto5lRN",
        "outputId": "d7649757-1c14-4b0e-ba82-7c62be8afe49"
      },
      "outputs": [
        {
          "output_type": "stream",
          "name": "stdout",
          "text": [
            "eşit\n"
          ]
        }
      ],
      "source": [
        "a=5\n",
        "\n",
        "if(a==5):\n",
        "  print(\"eşit\")"
      ]
    },
    {
      "cell_type": "code",
      "execution_count": 2,
      "metadata": {
        "colab": {
          "base_uri": "https://localhost:8080/"
        },
        "id": "o4RqaRKS7Tiv",
        "outputId": "3ae0ae5c-b2d5-4163-e105-0838bd273e7c"
      },
      "outputs": [
        {
          "output_type": "stream",
          "name": "stdout",
          "text": [
            "deneme\n"
          ]
        }
      ],
      "source": [
        "a=\"deneme\"\n",
        "print(a)"
      ]
    },
    {
      "cell_type": "markdown",
      "metadata": {
        "id": "57_-fYPW7s8e"
      },
      "source": [
        "```\n",
        "\n",
        "+ - * / % // **\n",
        "\n",
        "++ -- && || pythonda yoktur\n",
        "\n",
        "\n",
        "```"
      ]
    },
    {
      "cell_type": "code",
      "execution_count": 3,
      "metadata": {
        "colab": {
          "base_uri": "https://localhost:8080/"
        },
        "id": "UBeC-xsj7rne",
        "outputId": "fc029cd7-f420-4ce2-a039-01f6ef66ea1a"
      },
      "outputs": [
        {
          "output_type": "stream",
          "name": "stdout",
          "text": [
            "a 3 den küçük\n"
          ]
        }
      ],
      "source": [
        "a=3\n",
        "b=9\n",
        "c=11\n",
        "if(a>3):\n",
        "  if(b<11):\n",
        "    if(c>5):\n",
        "      print(\"herşey doğru\")\n",
        "    else:\n",
        "     print(\"c 5 den küçük\")\n",
        "  else:\n",
        "    print(\"b 11 den büyük\")\n",
        "else:\n",
        "  print(\"a 3 den küçük\")\n"
      ]
    },
    {
      "cell_type": "code",
      "execution_count": 4,
      "metadata": {
        "id": "TMkA1MrZ-OLp",
        "colab": {
          "base_uri": "https://localhost:8080/"
        },
        "outputId": "6b4511bb-902b-46e3-f515-305bec28f032"
      },
      "outputs": [
        {
          "output_type": "stream",
          "name": "stdout",
          "text": [
            "bir sayı:99\n",
            "Pozitif\n"
          ]
        }
      ],
      "source": [
        "sayi=int(input(\"bir sayı:\"))\n",
        "if(sayi<0):\n",
        "  print(\"Negatif\")\n",
        "elif(sayi==0):\n",
        "  print(\"Sıfır\")\n",
        "else:\n",
        "  print(\"Pozitif\")"
      ]
    },
    {
      "cell_type": "code",
      "execution_count": 5,
      "metadata": {
        "colab": {
          "base_uri": "https://localhost:8080/"
        },
        "id": "CWmeSBp1-MgW",
        "outputId": "d8fe4593-b9e5-4669-841a-3a2da6b6599b"
      },
      "outputs": [
        {
          "output_type": "stream",
          "name": "stdout",
          "text": [
            "1\n",
            "2\n",
            "3\n",
            "4\n",
            "5\n",
            "6\n",
            "7\n",
            "8\n",
            "9\n",
            "10\n"
          ]
        }
      ],
      "source": [
        "a=1\n",
        "while  a <= 10:\n",
        "  print(a)\n",
        "  a+=1\n"
      ]
    },
    {
      "cell_type": "code",
      "execution_count": 6,
      "metadata": {
        "colab": {
          "base_uri": "https://localhost:8080/"
        },
        "id": "SdhgqurP_BNu",
        "outputId": "7dfd15f2-0c3c-446f-f30d-2ff88259ce98"
      },
      "outputs": [
        {
          "output_type": "stream",
          "name": "stdout",
          "text": [
            "1\n",
            "2\n",
            "3\n",
            "4\n",
            "5\n",
            "6\n",
            "7\n",
            "8\n",
            "9\n",
            "10\n"
          ]
        }
      ],
      "source": [
        "for i in range(1,11):\n",
        "  print(i)"
      ]
    },
    {
      "cell_type": "code",
      "execution_count": 7,
      "metadata": {
        "colab": {
          "base_uri": "https://localhost:8080/"
        },
        "id": "o18AQy5e_Iz-",
        "outputId": "e5f49220-046f-4999-d744-b4f9d06fe628"
      },
      "outputs": [
        {
          "output_type": "stream",
          "name": "stdout",
          "text": [
            "XXXXXXXXX\n",
            "XXXXXXXXX\n",
            "XXXXXXXXX\n",
            "XXXXXXXXX\n",
            "XXXXXXXXX\n",
            "XXXXXXXXX\n",
            "XXXXXXXXX\n",
            "XXXXXXXXX\n",
            "XXXXXXXXX\n",
            "\n",
            "XXXXXXXXX\n",
            "XX      X\n",
            "X X     X\n",
            "X  X    X\n",
            "X   X   X\n",
            "X    X  X\n",
            "X     X X\n",
            "X      XX\n",
            "XXXXXXXXX\n"
          ]
        }
      ],
      "source": [
        "s=5\n",
        "ys=2*s-1 # ys 5 olarak hesaplanır. ys devamlı tek olur.\n",
        "\n",
        "for i in range(1,ys+1):\n",
        "  for t in range(1,ys+1):\n",
        "    print(\"X\",end=\"\")\n",
        "  print()\n",
        "print()\n",
        "\n",
        "for i in range(1,ys+1):\n",
        "  for t in range(1,ys+1):\n",
        "    if(i==t or i==1 or t==1 or t==ys or i==ys ): # şeklin dolu olacak yerlerini belirleyen şart satırı.\n",
        "      print(\"X\",end=\"\")\n",
        "    else:\n",
        "      print(\" \",end=\"\")\n",
        "  print()"
      ]
    },
    {
      "cell_type": "code",
      "execution_count": 8,
      "metadata": {
        "colab": {
          "base_uri": "https://localhost:8080/"
        },
        "id": "vsoTQ4oNAEKu",
        "outputId": "3cafbb64-c8d4-4478-9b43-46361f4207f2"
      },
      "outputs": [
        {
          "output_type": "stream",
          "name": "stdout",
          "text": [
            "f.e.n.e.r.b.a.h.ç.e."
          ]
        }
      ],
      "source": [
        "\n",
        "tr_harfler = \"fenerbahçe\"\n",
        "\n",
        "for harf in tr_harfler:\n",
        "    print(harf,end=\".\")\n"
      ]
    },
    {
      "cell_type": "markdown",
      "metadata": {
        "id": "Nh7ajBtbAUUe"
      },
      "source": [
        "klavyeden girilen sayıya kadar fibonnacci serini çıkaran bir kod yazınız."
      ]
    }
  ],
  "metadata": {
    "colab": {
      "provenance": [],
      "gpuType": "T4",
      "authorship_tag": "ABX9TyMPgArXmG1bn2TR+dY4p/uN",
      "include_colab_link": true
    },
    "kernelspec": {
      "display_name": "Python 3",
      "name": "python3"
    },
    "language_info": {
      "name": "python"
    },
    "accelerator": "GPU"
  },
  "nbformat": 4,
  "nbformat_minor": 0
}